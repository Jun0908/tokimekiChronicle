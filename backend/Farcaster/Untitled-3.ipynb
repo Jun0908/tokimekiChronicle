{
 "cells": [
  {
   "cell_type": "code",
   "execution_count": 1,
   "metadata": {},
   "outputs": [],
   "source": [
    "import os\n",
    "import requests\n",
    "import json\n",
    "import openai\n",
    "import re\n",
    "import traceback\n",
    "from pprint import pprint\n",
    "from IPython.display import display, JSON\n",
    "\n",
    "# APIキー\n",
    "OPENAI_API_KEY = os.getenv(\"OPENAI_API_KEY\")\n",
    "PINATA_JWT = os.getenv(\"PINATA_JWT\")\n",
    "\n",
    "client = openai.OpenAI(api_key=OPENAI_API_KEY)\n",
    "\n",
    "# API エンドポイント\n",
    "FNAME_API = \"https://fnames.farcaster.xyz/transfers/current?name={}\"\n",
    "FARCASTER_PROFILE_API = \"https://nemes.farcaster.xyz:2281/v1/userDataByFid?fid={}\"\n",
    "FARCASTER_POSTS_API = \"https://api.pinata.cloud/v3/farcaster/casts?fid={}&limit=50&order=desc\"\n",
    "\n",
    "HEADERS = {\"User-Agent\": \"Mozilla/5.0\"}\n",
    "\n",
    "# ユーザー名\n",
    "username = \"rz\""
   ]
  },
  {
   "cell_type": "code",
   "execution_count": 2,
   "metadata": {},
   "outputs": [
    {
     "name": "stdout",
     "output_type": "stream",
     "text": [
      "🔍 Fetching FID for username: rz\n",
      "✅ Raw FID Data:\n"
     ]
    },
    {
     "data": {
      "application/json": {
       "transfer": {
        "from": 0,
        "id": 144,
        "owner": "0x2bbaee8900bb1664b1c83a3a4f142cdbf2224fb8",
        "server_signature": "0xc0177a6fd56e7d73c7df9b391b6ce5e1461c1d6e785151ec3f7ddc83cbc75f1a2c802b725c660e9e880d5abbcfc5464545c9e38d2d8d9dae67557054bf2443431b",
        "timestamp": 1631641755,
        "to": 144,
        "user_signature": "0xd60c03b1caaef7c1159d8bd10d47813534268ae008fb4557ba8628ab245bee8f2923e8ced29d80ea1f062fff5e74f77636e9441f3e69b5f6d9b1cb8ef2c272c61c",
        "username": "rz"
       }
      },
      "text/plain": [
       "<IPython.core.display.JSON object>"
      ]
     },
     "metadata": {
      "application/json": {
       "expanded": false,
       "root": "root"
      }
     },
     "output_type": "display_data"
    }
   ],
   "source": [
    "# `username` から `FID` を取得\n",
    "url = FNAME_API.format(username)\n",
    "print(f\"🔍 Fetching FID for username: {username}\")\n",
    "try:\n",
    "    response = requests.get(url, headers=HEADERS)\n",
    "    response.raise_for_status()\n",
    "    data = response.json()\n",
    "    fid = data.get(\"transfer\", {}).get(\"to\")\n",
    "    print(\"✅ Raw FID Data:\")\n",
    "    display(JSON(data))  # JSONデータを表示\n",
    "except Exception as e:\n",
    "    print(f\"❌ Error getting FID: {e}\")\n",
    "    fid = None"
   ]
  },
  {
   "cell_type": "code",
   "execution_count": 5,
   "metadata": {},
   "outputs": [
    {
     "name": "stdout",
     "output_type": "stream",
     "text": [
      "🔍 Fetching posts for FID: 144\n",
      "✅ Raw Posts Data:\n"
     ]
    },
    {
     "data": {
      "application/json": {
       "casts": [
        {
         "author": {
          "avatar_url": "https://imagedelivery.net/BXluQx4ige9GuW0Ia56BHw/fc61eb87-0536-4cb6-d265-1dc647fbb200/original",
          "bio": "cofounder @canvas, prev @common, squad @verses, selkie/acc and raymond.xyz",
          "city": "New York",
          "country": "United States of America",
          "country_code": "us",
          "custody_address": "0x2bbaee8900bb1664b1c83a3a4f142cdbf2224fb8",
          "display_name": "raymond",
          "fid": "144",
          "fname": "rz",
          "followercount": "2461",
          "followingcount": "490",
          "latitude": 40.71,
          "location": {
           "address": {
            "city": "New York",
            "country": "United States of America",
            "country_code": "us",
            "state": "New York",
            "state_code": "ny"
           },
           "latitude": 40.71,
           "longitude": -74.01
          },
          "longitude": -74.01,
          "power_badge": true,
          "state": "New York",
          "state_code": "ny",
          "url": null,
          "verified_accounts": [],
          "verified_ethereum_addresses": [
           "0x39963ab005866e0af9df3491f8d344f68d47b776",
           "0x34c3a5ea06a3a67229fb21a7043243b0eb3e853f"
          ],
          "verified_solana_addresses": [
           "GsMCsxjvzB8B8wWSJBruiDvwducKY5U6h5Knj3eW22Sx"
          ]
         },
         "channel": null,
         "embeds": [
          {
           "metadata": {
            "_status": "RESOLVED",
            "content_length": null,
            "content_type": "text/html;charset=utf-8",
            "html": {
             "favicon": "https://abs.twimg.com/favicons/twitter-pip.3.ico",
             "oembed": {
              "author_name": "Stopa",
              "author_url": "https://twitter.com/stopachka",
              "cache_age": "3153600000",
              "height": null,
              "html": "<blockquote class=\"twitter-tweet\"><p lang=\"en\" dir=\"ltr\">“…there was a new feature in Pierre which won him the favor of all people: this was the recognition of the possibility for each person of thinking, feeling, and looking at things in his own way; the recognition in the impossibility of changing a person&#39;s opinion with words. This…</p>&mdash; Stopa (@stopachka) <a href=\"https://twitter.com/stopachka/status/1891225431866827156?ref_src=twsrc%5Etfw\">February 16, 2025</a></blockquote>\n<script async src=\"https://platform.twitter.com/widgets.js\" charset=\"utf-8\"></script>\n\n",
              "method": "provider-api",
              "provider_name": "Twitter",
              "provider_url": "https://twitter.com",
              "type": "rich",
              "url": "https://twitter.com/stopachka/status/1891225431866827156",
              "version": "1.0",
              "width": 550
             },
             "ogSiteName": "X (formerly Twitter)",
             "ogTitle": "x.com"
            }
           },
           "url": "https://x.com/stopachka/status/1891225431866827156?s=46"
          }
         ],
         "hash": "0x71737ef3ccf00678b36c6ea8cbfec940b5ba04d7",
         "mentionedProfiles": [],
         "parentAuthor": {
          "fid": null
         },
         "parentHash": null,
         "parentUrl": null,
         "reactions": {
          "count": 3,
          "fids": [
           790963,
           718622,
           751026
          ],
          "fnames": [
           "talatrumne1",
           "checkcheck",
           "chicsmartstokver"
          ]
         },
         "recasters": [],
         "recasts": {
          "count": 0,
          "fids": []
         },
         "replies": {
          "count": 1
         },
         "rootParentUrl": null,
         "text": "Good governance: https://x.com/stopachka/status/1891225431866827156?s=46",
         "threadHash": "0x71737ef3ccf00678b36c6ea8cbfec940b5ba04d7",
         "timestamp": "2025-02-17T02:42:12.000Z"
        },
        {
         "author": {
          "avatar_url": "https://imagedelivery.net/BXluQx4ige9GuW0Ia56BHw/fc61eb87-0536-4cb6-d265-1dc647fbb200/original",
          "bio": "cofounder @canvas, prev @common, squad @verses, selkie/acc and raymond.xyz",
          "city": "New York",
          "country": "United States of America",
          "country_code": "us",
          "custody_address": "0x2bbaee8900bb1664b1c83a3a4f142cdbf2224fb8",
          "display_name": "raymond",
          "fid": "144",
          "fname": "rz",
          "followercount": "2461",
          "followingcount": "490",
          "latitude": 40.71,
          "location": {
           "address": {
            "city": "New York",
            "country": "United States of America",
            "country_code": "us",
            "state": "New York",
            "state_code": "ny"
           },
           "latitude": 40.71,
           "longitude": -74.01
          },
          "longitude": -74.01,
          "power_badge": true,
          "state": "New York",
          "state_code": "ny",
          "url": null,
          "verified_accounts": [],
          "verified_ethereum_addresses": [
           "0x39963ab005866e0af9df3491f8d344f68d47b776",
           "0x34c3a5ea06a3a67229fb21a7043243b0eb3e853f"
          ],
          "verified_solana_addresses": [
           "GsMCsxjvzB8B8wWSJBruiDvwducKY5U6h5Knj3eW22Sx"
          ]
         },
         "channel": null,
         "embeds": [],
         "hash": "0xd79da175df7a8659d003e137f1c907792e7093e2",
         "mentionedProfiles": [],
         "parentAuthor": {
          "fid": null
         },
         "parentHash": null,
         "parentUrl": null,
         "reactions": {
          "count": 10,
          "fids": [
           991540,
           987148,
           992078,
           335981,
           828,
           3621,
           4905,
           99,
           989931,
           944520
          ],
          "fnames": [
           "some1random",
           "yeule",
           "bimini113",
           "wizardjames",
           "scottrepreneur.eth",
           "horsefacts.eth",
           "mxjxn.eth",
           "jessepollak",
           "0xtylerdurden",
           "marshadow"
          ]
         },
         "recasters": [
          "zakhap",
          "mxjxn.eth"
         ],
         "recasts": {
          "count": 2,
          "fids": [
           294856,
           4905
          ]
         },
         "replies": {
          "count": 0
         },
         "rootParentUrl": null,
         "text": "eth- (crowd cheers) cel (crowd boos) ...leration!! (crowd breaks out into applause)",
         "threadHash": "0xd79da175df7a8659d003e137f1c907792e7093e2",
         "timestamp": "2025-02-15T19:41:04.000Z"
        },
        {
         "author": {
          "avatar_url": "https://imagedelivery.net/BXluQx4ige9GuW0Ia56BHw/fc61eb87-0536-4cb6-d265-1dc647fbb200/original",
          "bio": "cofounder @canvas, prev @common, squad @verses, selkie/acc and raymond.xyz",
          "city": "New York",
          "country": "United States of America",
          "country_code": "us",
          "custody_address": "0x2bbaee8900bb1664b1c83a3a4f142cdbf2224fb8",
          "display_name": "raymond",
          "fid": "144",
          "fname": "rz",
          "followercount": "2461",
          "followingcount": "490",
          "latitude": 40.71,
          "location": {
           "address": {
            "city": "New York",
            "country": "United States of America",
            "country_code": "us",
            "state": "New York",
            "state_code": "ny"
           },
           "latitude": 40.71,
           "longitude": -74.01
          },
          "longitude": -74.01,
          "power_badge": true,
          "state": "New York",
          "state_code": "ny",
          "url": null,
          "verified_accounts": [],
          "verified_ethereum_addresses": [
           "0x39963ab005866e0af9df3491f8d344f68d47b776",
           "0x34c3a5ea06a3a67229fb21a7043243b0eb3e853f"
          ],
          "verified_solana_addresses": [
           "GsMCsxjvzB8B8wWSJBruiDvwducKY5U6h5Knj3eW22Sx"
          ]
         },
         "channel": null,
         "embeds": [
          {
           "cast": {
            "author": {
             "display_name": "raymond",
             "fid": 144,
             "object": "user_dehydrated",
             "pfp_url": "https://imagedelivery.net/BXluQx4ige9GuW0Ia56BHw/fc61eb87-0536-4cb6-d265-1dc647fbb200/original",
             "username": "rz"
            },
            "channel": null,
            "embeds": [
             {
              "metadata": {
               "_status": "RESOLVED",
               "content_length": 100204,
               "content_type": "image/jpeg",
               "image": {
                "height_px": 747,
                "width_px": 1170
               }
              },
              "url": "https://imagedelivery.net/BXluQx4ige9GuW0Ia56BHw/0e82b080-ad53-43d5-eeed-e2a074ead100/original"
             }
            ],
            "hash": "0x4eedf34f9a6ab9a1bb4940f2e1a785b7def24f29",
            "object": "cast_embedded",
            "parent_author": {
             "fid": null
            },
            "parent_hash": null,
            "parent_url": null,
            "root_parent_url": null,
            "text": "I think about this all the time",
            "thread_hash": "0x4eedf34f9a6ab9a1bb4940f2e1a785b7def24f29",
            "timestamp": "2025-02-15T18:57:42.000Z"
           },
           "castId": {
            "fid": 144,
            "hash": "0x4eedf34f9a6ab9a1bb4940f2e1a785b7def24f29"
           }
          }
         ],
         "hash": "0x55e191cd91648092b9c5fec9bd03307c5daea320",
         "mentionedProfiles": [],
         "parentAuthor": {
          "fid": null
         },
         "parentHash": null,
         "parentUrl": null,
         "reactions": {
          "count": 81,
          "fids": [
           991778,
           678334,
           854304,
           905678,
           649953,
           2091,
           476528,
           989298,
           664712,
           921232,
           923204,
           3087,
           720077,
           606752,
           600601,
           213625,
           434645,
           327985,
           242584,
           498804,
           294856,
           3,
           669562,
           2112,
           517950,
           751186,
           722004,
           880029,
           632698,
           521608,
           646350,
           606250,
           680837,
           580479,
           649441,
           683833,
           523046,
           975256,
           523185,
           868573,
           738613,
           241095,
           743364,
           882245,
           740021,
           729672,
           645984,
           311797,
           870613,
           893425,
           329171,
           336689,
           743378,
           277129,
           739948,
           723405,
           868558,
           901316,
           453,
           567191,
           18206,
           901865,
           990933,
           282719,
           250856,
           369612,
           976616,
           990722,
           142,
           807239,
           711145,
           708107,
           745352,
           621095,
           891195,
           863662,
           24131,
           13664,
           597246,
           197008,
           988383
          ],
          "fnames": [
           "faith901",
           "thinhcrypto",
           "kirashka",
           "yurt",
           "fqo",
           "melissa",
           "resuldal",
           "thanhmeoht",
           "leonwangw",
           "nguyengiaanh",
           "nguyengiaanh1",
           "okjose",
           "szo",
           "durovpavel",
           "conormcgregor",
           "wero817",
           "bgod32",
           "libicryptos",
           "skirfan91",
           "naeem1",
           "zakhap",
           "dwr.eth",
           "tryanddoit",
           "rubinovitz",
           "reyhoon",
           "digreertpattydr",
           "wolfberr77",
           "fraserer58",
           "msw",
           "princesahi9",
           "gjl",
           "derton",
           "willcy",
           "batmate",
           "znj",
           "xbs",
           "rezabtc",
           "gwapna",
           "2ski",
           "gazettestacey399",
           "ssq",
           "asadfarooq",
           "wlw",
           "awaresu595",
           "zxo",
           "wiq",
           "evangelinez",
           "chamaquita",
           "born2ls632",
           "toxicspncille",
           "ufazki",
           "oldengold",
           "suq",
           "milanperry",
           "isl",
           "nhc",
           "ferdylo207",
           "smalls18",
           "dfern.eth",
           "myfruits.eth",
           "weeyum",
           "landidon15",
           "phungduy",
           "meutimao",
           "nestic",
           "ramchi",
           "markrhiannon",
           "thed21",
           "w",
           "hahotrader",
           "fitbrush",
           "pvgoue",
           "hanumanbitcoin",
           "irwarpcast",
           "ashim27",
           "w3bs",
           "serhiofernandez",
           "evan-hudson",
           "esterh",
           "libbie",
           "dongrace"
          ]
         },
         "recasters": [
          "kirashka",
          "fqo",
          "fuckusername",
          "naeem1",
          "dwr.eth",
          "ramchi",
          "markrhiannon",
          "fitbrush"
         ],
         "recasts": {
          "count": 8,
          "fids": [
           854304,
           649953,
           713034,
           498804,
           3,
           369612,
           976616,
           711145
          ]
         },
         "replies": {
          "count": 6
         },
         "rootParentUrl": null,
         "text": "One angle on this that’s actually interesting is Cosmos, which never took on Ethereum’s research focus or Solana’s strategy focus, but instead had a technical fundamentals focus (paired with economic autarky)\n\nFirst call with ICF we talked about IBC as TCP/IP, and it was actually credible",
         "threadHash": "0x55e191cd91648092b9c5fec9bd03307c5daea320",
         "timestamp": "2025-02-15T19:12:50.000Z"
        },
        {
         "author": {
          "avatar_url": "https://imagedelivery.net/BXluQx4ige9GuW0Ia56BHw/fc61eb87-0536-4cb6-d265-1dc647fbb200/original",
          "bio": "cofounder @canvas, prev @common, squad @verses, selkie/acc and raymond.xyz",
          "city": "New York",
          "country": "United States of America",
          "country_code": "us",
          "custody_address": "0x2bbaee8900bb1664b1c83a3a4f142cdbf2224fb8",
          "display_name": "raymond",
          "fid": "144",
          "fname": "rz",
          "followercount": "2461",
          "followingcount": "490",
          "latitude": 40.71,
          "location": {
           "address": {
            "city": "New York",
            "country": "United States of America",
            "country_code": "us",
            "state": "New York",
            "state_code": "ny"
           },
           "latitude": 40.71,
           "longitude": -74.01
          },
          "longitude": -74.01,
          "power_badge": true,
          "state": "New York",
          "state_code": "ny",
          "url": null,
          "verified_accounts": [],
          "verified_ethereum_addresses": [
           "0x39963ab005866e0af9df3491f8d344f68d47b776",
           "0x34c3a5ea06a3a67229fb21a7043243b0eb3e853f"
          ],
          "verified_solana_addresses": [
           "GsMCsxjvzB8B8wWSJBruiDvwducKY5U6h5Knj3eW22Sx"
          ]
         },
         "channel": null,
         "embeds": [
          {
           "metadata": {
            "_status": "RESOLVED",
            "content_length": 80288,
            "content_type": "image/jpeg",
            "image": {
             "height_px": 743,
             "width_px": 1170
            }
           },
           "url": "https://imagedelivery.net/BXluQx4ige9GuW0Ia56BHw/5fc91230-8dc0-4c9d-1f62-9471dc419200/original"
          }
         ],
         "hash": "0x682a200b236aca31b68709817f0e1408be9a35e3",
         "mentionedProfiles": [],
         "parentAuthor": {
          "fid": 144
         },
         "parentHash": "0x4eedf34f9a6ab9a1bb4940f2e1a785b7def24f29",
         "parentUrl": null,
         "reactions": {
          "count": 0,
          "fids": []
         },
         "recasters": [],
         "recasts": {
          "count": 0,
          "fids": []
         },
         "replies": {
          "count": 0
         },
         "rootParentUrl": null,
         "text": "Also this",
         "threadHash": "0x4eedf34f9a6ab9a1bb4940f2e1a785b7def24f29",
         "timestamp": "2025-02-15T19:00:57.000Z"
        },
        {
         "author": {
          "avatar_url": "https://imagedelivery.net/BXluQx4ige9GuW0Ia56BHw/fc61eb87-0536-4cb6-d265-1dc647fbb200/original",
          "bio": "cofounder @canvas, prev @common, squad @verses, selkie/acc and raymond.xyz",
          "city": "New York",
          "country": "United States of America",
          "country_code": "us",
          "custody_address": "0x2bbaee8900bb1664b1c83a3a4f142cdbf2224fb8",
          "display_name": "raymond",
          "fid": "144",
          "fname": "rz",
          "followercount": "2461",
          "followingcount": "490",
          "latitude": 40.71,
          "location": {
           "address": {
            "city": "New York",
            "country": "United States of America",
            "country_code": "us",
            "state": "New York",
            "state_code": "ny"
           },
           "latitude": 40.71,
           "longitude": -74.01
          },
          "longitude": -74.01,
          "power_badge": true,
          "state": "New York",
          "state_code": "ny",
          "url": null,
          "verified_accounts": [],
          "verified_ethereum_addresses": [
           "0x39963ab005866e0af9df3491f8d344f68d47b776",
           "0x34c3a5ea06a3a67229fb21a7043243b0eb3e853f"
          ],
          "verified_solana_addresses": [
           "GsMCsxjvzB8B8wWSJBruiDvwducKY5U6h5Knj3eW22Sx"
          ]
         },
         "channel": null,
         "embeds": [
          {
           "metadata": {
            "_status": "RESOLVED",
            "content_length": 100204,
            "content_type": "image/jpeg",
            "image": {
             "height_px": 747,
             "width_px": 1170
            }
           },
           "url": "https://imagedelivery.net/BXluQx4ige9GuW0Ia56BHw/0e82b080-ad53-43d5-eeed-e2a074ead100/original"
          }
         ],
         "hash": "0x4eedf34f9a6ab9a1bb4940f2e1a785b7def24f29",
         "mentionedProfiles": [],
         "parentAuthor": {
          "fid": null
         },
         "parentHash": null,
         "parentUrl": null,
         "reactions": {
          "count": 4,
          "fids": [
           9134,
           881069,
           142,
           129
          ],
          "fnames": [
           "promptrotator.eth",
           "funhockeyviscoat",
           "w",
           "phil"
          ]
         },
         "recasters": [],
         "recasts": {
          "count": 0,
          "fids": []
         },
         "replies": {
          "count": 2
         },
         "rootParentUrl": null,
         "text": "I think about this all the time",
         "threadHash": "0x4eedf34f9a6ab9a1bb4940f2e1a785b7def24f29",
         "timestamp": "2025-02-15T18:57:42.000Z"
        },
        {
         "author": {
          "avatar_url": "https://imagedelivery.net/BXluQx4ige9GuW0Ia56BHw/fc61eb87-0536-4cb6-d265-1dc647fbb200/original",
          "bio": "cofounder @canvas, prev @common, squad @verses, selkie/acc and raymond.xyz",
          "city": "New York",
          "country": "United States of America",
          "country_code": "us",
          "custody_address": "0x2bbaee8900bb1664b1c83a3a4f142cdbf2224fb8",
          "display_name": "raymond",
          "fid": "144",
          "fname": "rz",
          "followercount": "2461",
          "followingcount": "490",
          "latitude": 40.71,
          "location": {
           "address": {
            "city": "New York",
            "country": "United States of America",
            "country_code": "us",
            "state": "New York",
            "state_code": "ny"
           },
           "latitude": 40.71,
           "longitude": -74.01
          },
          "longitude": -74.01,
          "power_badge": true,
          "state": "New York",
          "state_code": "ny",
          "url": null,
          "verified_accounts": [],
          "verified_ethereum_addresses": [
           "0x39963ab005866e0af9df3491f8d344f68d47b776",
           "0x34c3a5ea06a3a67229fb21a7043243b0eb3e853f"
          ],
          "verified_solana_addresses": [
           "GsMCsxjvzB8B8wWSJBruiDvwducKY5U6h5Knj3eW22Sx"
          ]
         },
         "channel": null,
         "embeds": [],
         "hash": "0x16e1d8004ece27b28dd4281e4474e04ff8700823",
         "mentionedProfiles": [],
         "parentAuthor": {
          "fid": 3
         },
         "parentHash": "0x0b9febda909af2abb1f8ebf679fbb80f2112e230",
         "parentUrl": null,
         "reactions": {
          "count": 2,
          "fids": [
           859067,
           3
          ],
          "fnames": [
           "cloaked-bloke",
           "dwr.eth"
          ]
         },
         "recasters": [],
         "recasts": {
          "count": 0,
          "fids": []
         },
         "replies": {
          "count": 0
         },
         "rootParentUrl": null,
         "text": "No one place in particular, but seems people feel like their voices aren't being heard, in Eth, in the US, etc\n\nPublic figures that used to participate in good faith discourse are being replaced by people like Nikita Bier who are knowledgeable but also make numbers go up",
         "threadHash": "0x13ac02a1ca58e9b0230b8a139f95040932cd91b3",
         "timestamp": "2025-02-12T23:00:18.000Z"
        },
        {
         "author": {
          "avatar_url": "https://imagedelivery.net/BXluQx4ige9GuW0Ia56BHw/fc61eb87-0536-4cb6-d265-1dc647fbb200/original",
          "bio": "cofounder @canvas, prev @common, squad @verses, selkie/acc and raymond.xyz",
          "city": "New York",
          "country": "United States of America",
          "country_code": "us",
          "custody_address": "0x2bbaee8900bb1664b1c83a3a4f142cdbf2224fb8",
          "display_name": "raymond",
          "fid": "144",
          "fname": "rz",
          "followercount": "2461",
          "followingcount": "490",
          "latitude": 40.71,
          "location": {
           "address": {
            "city": "New York",
            "country": "United States of America",
            "country_code": "us",
            "state": "New York",
            "state_code": "ny"
           },
           "latitude": 40.71,
           "longitude": -74.01
          },
          "longitude": -74.01,
          "power_badge": true,
          "state": "New York",
          "state_code": "ny",
          "url": null,
          "verified_accounts": [],
          "verified_ethereum_addresses": [
           "0x39963ab005866e0af9df3491f8d344f68d47b776",
           "0x34c3a5ea06a3a67229fb21a7043243b0eb3e853f"
          ],
          "verified_solana_addresses": [
           "GsMCsxjvzB8B8wWSJBruiDvwducKY5U6h5Knj3eW22Sx"
          ]
         },
         "channel": null,
         "embeds": [],
         "hash": "0x05f4550c8230577d233607c73b604fe906108660",
         "mentionedProfiles": [],
         "parentAuthor": {
          "fid": 144
         },
         "parentHash": "0x13ac02a1ca58e9b0230b8a139f95040932cd91b3",
         "parentUrl": null,
         "reactions": {
          "count": 4,
          "fids": [
           2112,
           4905,
           580712,
           7143
          ],
          "fnames": [
           "rubinovitz",
           "mxjxn.eth",
           "edisun",
           "six"
          ]
         },
         "recasters": [],
         "recasts": {
          "count": 0,
          "fids": []
         },
         "replies": {
          "count": 0
         },
         "rootParentUrl": null,
         "text": "I stole this cast",
         "threadHash": "0x05f4550c8230577d233607c73b604fe906108660",
         "timestamp": "2025-02-12T19:24:06.000Z"
        },
        {
         "author": {
          "avatar_url": "https://imagedelivery.net/BXluQx4ige9GuW0Ia56BHw/fc61eb87-0536-4cb6-d265-1dc647fbb200/original",
          "bio": "cofounder @canvas, prev @common, squad @verses, selkie/acc and raymond.xyz",
          "city": "New York",
          "country": "United States of America",
          "country_code": "us",
          "custody_address": "0x2bbaee8900bb1664b1c83a3a4f142cdbf2224fb8",
          "display_name": "raymond",
          "fid": "144",
          "fname": "rz",
          "followercount": "2461",
          "followingcount": "490",
          "latitude": 40.71,
          "location": {
           "address": {
            "city": "New York",
            "country": "United States of America",
            "country_code": "us",
            "state": "New York",
            "state_code": "ny"
           },
           "latitude": 40.71,
           "longitude": -74.01
          },
          "longitude": -74.01,
          "power_badge": true,
          "state": "New York",
          "state_code": "ny",
          "url": null,
          "verified_accounts": [],
          "verified_ethereum_addresses": [
           "0x39963ab005866e0af9df3491f8d344f68d47b776",
           "0x34c3a5ea06a3a67229fb21a7043243b0eb3e853f"
          ],
          "verified_solana_addresses": [
           "GsMCsxjvzB8B8wWSJBruiDvwducKY5U6h5Knj3eW22Sx"
          ]
         },
         "channel": null,
         "embeds": [],
         "hash": "0x13ac02a1ca58e9b0230b8a139f95040932cd91b3",
         "mentionedProfiles": [],
         "parentAuthor": {
          "fid": null
         },
         "parentHash": null,
         "parentUrl": null,
         "reactions": {
          "count": 18,
          "fids": [
           921232,
           38,
           863662,
           2112,
           4790,
           3,
           986499,
           4905,
           9134,
           142,
           7143,
           415337,
           986978,
           845504,
           899,
           976616,
           944520,
           988060
          ],
          "fnames": [
           "nguyengiaanh",
           "bobby",
           "w3bs",
           "rubinovitz",
           "elesel.eth",
           "dwr.eth",
           "sanshiro",
           "mxjxn.eth",
           "promptrotator.eth",
           "w",
           "six",
           "sonyasupposedly",
           "datjqk",
           "itadakimasu",
           "jasonkim.eth",
           "markrhiannon",
           "marshadow",
           "nerdboy38"
          ]
         },
         "recasters": [
          "markrhiannon"
         ],
         "recasts": {
          "count": 1,
          "fids": [
           976616
          ]
         },
         "replies": {
          "count": 4
         },
         "rootParentUrl": null,
         "text": "Governance.\n\nWe gotta figure that out",
         "threadHash": "0x13ac02a1ca58e9b0230b8a139f95040932cd91b3",
         "timestamp": "2025-02-12T19:24:05.000Z"
        },
        {
         "author": {
          "avatar_url": "https://imagedelivery.net/BXluQx4ige9GuW0Ia56BHw/fc61eb87-0536-4cb6-d265-1dc647fbb200/original",
          "bio": "cofounder @canvas, prev @common, squad @verses, selkie/acc and raymond.xyz",
          "city": "New York",
          "country": "United States of America",
          "country_code": "us",
          "custody_address": "0x2bbaee8900bb1664b1c83a3a4f142cdbf2224fb8",
          "display_name": "raymond",
          "fid": "144",
          "fname": "rz",
          "followercount": "2461",
          "followingcount": "490",
          "latitude": 40.71,
          "location": {
           "address": {
            "city": "New York",
            "country": "United States of America",
            "country_code": "us",
            "state": "New York",
            "state_code": "ny"
           },
           "latitude": 40.71,
           "longitude": -74.01
          },
          "longitude": -74.01,
          "power_badge": true,
          "state": "New York",
          "state_code": "ny",
          "url": null,
          "verified_accounts": [],
          "verified_ethereum_addresses": [
           "0x39963ab005866e0af9df3491f8d344f68d47b776",
           "0x34c3a5ea06a3a67229fb21a7043243b0eb3e853f"
          ],
          "verified_solana_addresses": [
           "GsMCsxjvzB8B8wWSJBruiDvwducKY5U6h5Knj3eW22Sx"
          ]
         },
         "channel": {
          "id": "parenting",
          "image_url": "https://ipfs.decentralized-content.com/ipfs/bafybeifl46eltwvlwof5fsusgk5vk4rq7duo4qw33xq4gbdjsq4a4kbcom",
          "name": "Parenting",
          "object": "channel_dehydrated"
         },
         "embeds": [],
         "hash": "0x46b5d3e93980c60394c0c660675d02e5dabc2e5c",
         "mentionedProfiles": [],
         "parentAuthor": {
          "fid": 99
         },
         "parentHash": "0x31ffc2b6df3b9ed8805c9801e48ded0ff1d889d4",
         "parentUrl": null,
         "reactions": {
          "count": 0,
          "fids": []
         },
         "recasters": [],
         "recasts": {
          "count": 0,
          "fids": []
         },
         "replies": {
          "count": 0
         },
         "rootParentUrl": "chain://eip155:8453/erc721:0xb7310fc4b4a31c4fb7adf90b8201546bb2bcb52c",
         "text": "Congrats Jesse!!",
         "threadHash": "0x31ffc2b6df3b9ed8805c9801e48ded0ff1d889d4",
         "timestamp": "2025-02-06T20:16:00.000Z"
        },
        {
         "author": {
          "avatar_url": "https://imagedelivery.net/BXluQx4ige9GuW0Ia56BHw/fc61eb87-0536-4cb6-d265-1dc647fbb200/original",
          "bio": "cofounder @canvas, prev @common, squad @verses, selkie/acc and raymond.xyz",
          "city": "New York",
          "country": "United States of America",
          "country_code": "us",
          "custody_address": "0x2bbaee8900bb1664b1c83a3a4f142cdbf2224fb8",
          "display_name": "raymond",
          "fid": "144",
          "fname": "rz",
          "followercount": "2461",
          "followingcount": "490",
          "latitude": 40.71,
          "location": {
           "address": {
            "city": "New York",
            "country": "United States of America",
            "country_code": "us",
            "state": "New York",
            "state_code": "ny"
           },
           "latitude": 40.71,
           "longitude": -74.01
          },
          "longitude": -74.01,
          "power_badge": true,
          "state": "New York",
          "state_code": "ny",
          "url": null,
          "verified_accounts": [],
          "verified_ethereum_addresses": [
           "0x39963ab005866e0af9df3491f8d344f68d47b776",
           "0x34c3a5ea06a3a67229fb21a7043243b0eb3e853f"
          ],
          "verified_solana_addresses": [
           "GsMCsxjvzB8B8wWSJBruiDvwducKY5U6h5Knj3eW22Sx"
          ]
         },
         "channel": null,
         "embeds": [],
         "hash": "0x53e19dd1db630f011eb92fae83f86b12386e724b",
         "mentionedProfiles": [
          {
           "custodyAddress": "0x1025d025134db68c2fe85b1a97f68879fef5086b",
           "displayName": "ghost",
           "fid": 936,
           "followerCount": 94,
           "followingCount": 83,
           "pfp": {
            "url": "https://imagedelivery.net/BXluQx4ige9GuW0Ia56BHw/320b5304-c661-4a85-30ff-4e5c0f9a3600/rectcrop3"
           },
           "powerBadge": false,
           "profile": {
            "bio": {
             "mentionedProfiles": [],
             "text": "ghost"
            }
           },
           "username": "ghost",
           "verifications": [],
           "verifiedAddresses": {
            "eth_addresses": [],
            "sol_addresses": []
           }
          }
         ],
         "parentAuthor": {
          "fid": 7143
         },
         "parentHash": "0x8fbe3d3c160d4e2db50068b11a64772e628fe65d",
         "parentUrl": null,
         "reactions": {
          "count": 0,
          "fids": []
         },
         "recasters": [],
         "recasts": {
          "count": 0,
          "fids": []
         },
         "replies": {
          "count": 0
         },
         "rootParentUrl": null,
         "text": "@ghost",
         "threadHash": "0x8fbe3d3c160d4e2db50068b11a64772e628fe65d",
         "timestamp": "2025-02-05T21:34:05.000Z"
        },
        {
         "author": {
          "avatar_url": "https://imagedelivery.net/BXluQx4ige9GuW0Ia56BHw/fc61eb87-0536-4cb6-d265-1dc647fbb200/original",
          "bio": "cofounder @canvas, prev @common, squad @verses, selkie/acc and raymond.xyz",
          "city": "New York",
          "country": "United States of America",
          "country_code": "us",
          "custody_address": "0x2bbaee8900bb1664b1c83a3a4f142cdbf2224fb8",
          "display_name": "raymond",
          "fid": "144",
          "fname": "rz",
          "followercount": "2461",
          "followingcount": "490",
          "latitude": 40.71,
          "location": {
           "address": {
            "city": "New York",
            "country": "United States of America",
            "country_code": "us",
            "state": "New York",
            "state_code": "ny"
           },
           "latitude": 40.71,
           "longitude": -74.01
          },
          "longitude": -74.01,
          "power_badge": true,
          "state": "New York",
          "state_code": "ny",
          "url": null,
          "verified_accounts": [],
          "verified_ethereum_addresses": [
           "0x39963ab005866e0af9df3491f8d344f68d47b776",
           "0x34c3a5ea06a3a67229fb21a7043243b0eb3e853f"
          ],
          "verified_solana_addresses": [
           "GsMCsxjvzB8B8wWSJBruiDvwducKY5U6h5Knj3eW22Sx"
          ]
         },
         "channel": null,
         "embeds": [],
         "hash": "0x8207c93191c152bfda9022544840af7acd26d195",
         "mentionedProfiles": [],
         "parentAuthor": {
          "fid": null
         },
         "parentHash": null,
         "parentUrl": null,
         "reactions": {
          "count": 34,
          "fids": [
           534,
           294856,
           3,
           958703,
           1689,
           2112,
           5964,
           6741,
           9134,
           12847,
           14870,
           344568,
           189701,
           192616,
           973568,
           974115,
           974875,
           974189,
           974798,
           516571,
           253403,
           537518,
           292872,
           326392,
           190651,
           713842,
           714330,
           714606,
           891546,
           938356,
           972251,
           974461,
           475521,
           4790
          ],
          "fnames": [
           "mikedemarais.eth",
           "zakhap",
           "dwr.eth",
           "timmy3205",
           "stephancill",
           "rubinovitz",
           "francos.eth",
           "sean07.eth",
           "promptrotator.eth",
           "hot",
           "sea",
           "theref",
           "parichay",
           "lcoops",
           "0xstats",
           "shadowcrafter",
           "frostscribe",
           "amberaegis",
           "shadowtid3",
           "netmind",
           "triumphmind",
           "sushantkr",
           "rasel9245",
           "hannah-bird",
           "c7m",
           "darcyjillian",
           "kenneth-cooper",
           "tommy-hill",
           "mrzayya",
           "pikky",
           "ronyahmed",
           "andrewmai",
           "envio",
           "elesel.eth"
          ]
         },
         "recasters": [
          "nimbusninja",
          "arcaneink",
          "frostscribe",
          "pulsecrafter",
          "shadowtid3",
          "ronyahmed"
         ],
         "recasts": {
          "count": 6,
          "fids": [
           974081,
           974865,
           974875,
           974193,
           974798,
           972251
          ]
         },
         "replies": {
          "count": 0
         },
         "rootParentUrl": null,
         "text": "switched my feed from algo to following, now i get technical eth posts instead of new coins and nft mints. pretty nice change",
         "threadHash": "0x8207c93191c152bfda9022544840af7acd26d195",
         "timestamp": "2025-01-31T06:28:51.000Z"
        },
        {
         "author": {
          "avatar_url": "https://imagedelivery.net/BXluQx4ige9GuW0Ia56BHw/fc61eb87-0536-4cb6-d265-1dc647fbb200/original",
          "bio": "cofounder @canvas, prev @common, squad @verses, selkie/acc and raymond.xyz",
          "city": "New York",
          "country": "United States of America",
          "country_code": "us",
          "custody_address": "0x2bbaee8900bb1664b1c83a3a4f142cdbf2224fb8",
          "display_name": "raymond",
          "fid": "144",
          "fname": "rz",
          "followercount": "2461",
          "followingcount": "490",
          "latitude": 40.71,
          "location": {
           "address": {
            "city": "New York",
            "country": "United States of America",
            "country_code": "us",
            "state": "New York",
            "state_code": "ny"
           },
           "latitude": 40.71,
           "longitude": -74.01
          },
          "longitude": -74.01,
          "power_badge": true,
          "state": "New York",
          "state_code": "ny",
          "url": null,
          "verified_accounts": [],
          "verified_ethereum_addresses": [
           "0x39963ab005866e0af9df3491f8d344f68d47b776",
           "0x34c3a5ea06a3a67229fb21a7043243b0eb3e853f"
          ],
          "verified_solana_addresses": [
           "GsMCsxjvzB8B8wWSJBruiDvwducKY5U6h5Knj3eW22Sx"
          ]
         },
         "channel": {
          "id": "founders",
          "image_url": "https://warpcast.com/~/channel-images/founders.png",
          "name": "Founders",
          "object": "channel_dehydrated"
         },
         "embeds": [],
         "hash": "0xf881cbf1e35fc8a42c21434ddd43d743b5802777",
         "mentionedProfiles": [],
         "parentAuthor": {
          "fid": 320887
         },
         "parentHash": "0x59aba40f683fa536f9b5a08972acaf3890d3e450",
         "parentUrl": null,
         "reactions": {
          "count": 1,
          "fids": [
           320887
          ],
          "fnames": [
           "dillc"
          ]
         },
         "recasters": [],
         "recasts": {
          "count": 0,
          "fids": []
         },
         "replies": {
          "count": 1
         },
         "rootParentUrl": "https://farcaster.group/founders",
         "text": "they are engineered but yes",
         "threadHash": "0x179866748a595be6b84c27b9ce1f0b08e2378e60",
         "timestamp": "2025-01-31T06:11:25.000Z"
        },
        {
         "author": {
          "avatar_url": "https://imagedelivery.net/BXluQx4ige9GuW0Ia56BHw/fc61eb87-0536-4cb6-d265-1dc647fbb200/original",
          "bio": "cofounder @canvas, prev @common, squad @verses, selkie/acc and raymond.xyz",
          "city": "New York",
          "country": "United States of America",
          "country_code": "us",
          "custody_address": "0x2bbaee8900bb1664b1c83a3a4f142cdbf2224fb8",
          "display_name": "raymond",
          "fid": "144",
          "fname": "rz",
          "followercount": "2461",
          "followingcount": "490",
          "latitude": 40.71,
          "location": {
           "address": {
            "city": "New York",
            "country": "United States of America",
            "country_code": "us",
            "state": "New York",
            "state_code": "ny"
           },
           "latitude": 40.71,
           "longitude": -74.01
          },
          "longitude": -74.01,
          "power_badge": true,
          "state": "New York",
          "state_code": "ny",
          "url": null,
          "verified_accounts": [],
          "verified_ethereum_addresses": [
           "0x39963ab005866e0af9df3491f8d344f68d47b776",
           "0x34c3a5ea06a3a67229fb21a7043243b0eb3e853f"
          ],
          "verified_solana_addresses": [
           "GsMCsxjvzB8B8wWSJBruiDvwducKY5U6h5Knj3eW22Sx"
          ]
         },
         "channel": null,
         "embeds": [],
         "hash": "0x57c8b4972cac4190db7700d089414711dba0fc99",
         "mentionedProfiles": [],
         "parentAuthor": {
          "fid": null
         },
         "parentHash": null,
         "parentUrl": null,
         "reactions": {
          "count": 146,
          "fids": [
           2,
           3,
           616,
           2112,
           2626,
           3621,
           331898,
           6741,
           7143,
           8712,
           11124,
           14190,
           976616,
           907589,
           19364,
           20805,
           838,
           189636,
           192377,
           194339,
           195319,
           16407,
           974097,
           974035,
           974205,
           974119,
           974524,
           581816,
           230272,
           237396,
           239308,
           700387,
           242584,
           542233,
           549234,
           714330,
           923204,
           921232,
           927719,
           258048,
           580167,
           261400,
           278946,
           281010,
           892213,
           288665,
           290321,
           294900,
           301878,
           303694,
           316092,
           320887,
           322995,
           335597,
           335981,
           339018,
           345773,
           352268,
           363508,
           364285,
           366895,
           372350,
           378256,
           383745,
           383857,
           388919,
           415225,
           415337,
           424284,
           441063,
           452455,
           462672,
           464223,
           476054,
           480631,
           490786,
           491934,
           493384,
           510274,
           513133,
           521718,
           524781,
           529070,
           529852,
           530556,
           531991,
           532465,
           533296,
           535993,
           539286,
           540458,
           549019,
           550671,
           554082,
           557465,
           557470,
           557751,
           569738,
           580712,
           580914,
           582843,
           586547,
           600107,
           601083,
           608285,
           611422,
           612238,
           613679,
           614091,
           627710,
           639553,
           666901,
           671413,
           703393,
           714615,
           723246,
           723237,
           727619,
           737437,
           753462,
           762740,
           776511,
           784045,
           784347,
           796658,
           796998,
           797176,
           798945,
           825339,
           835367,
           844942,
           852842,
           864519,
           866115,
           874951,
           889347,
           891195,
           893249,
           902460,
           902464,
           903769,
           907606,
           929429,
           948172,
           956128,
           475521
          ],
          "fnames": [
           "v",
           "dwr.eth",
           "dylsteck.eth",
           "rubinovitz",
           "salief",
           "horsefacts.eth",
           "maiaji",
           "sean07.eth",
           "six",
           "rosie",
           "ds8",
           "emanuelsouza.eth",
           "markrhiannon",
           "cutherde",
           "argon",
           "animocabrands",
           "luciano",
           "bianc8",
           "murton",
           "avril",
           "tum4y",
           "rickdee.eth",
           "phantomforge",
           "frostbyt",
           "bladescholar",
           "pixelpil",
           "phoenixbyte",
           "haidang93",
           "gamechanger5",
           "0xrizkijack",
           "evmlion.eth",
           "gwynnnn",
           "skirfan91",
           "kkhalid99",
           "poltman",
           "kenneth-cooper",
           "nguyengiaanh1",
           "nguyengiaanh",
           "nguyengiaanh2",
           "sra786",
           "simoesla",
           "crypto7slave",
           "nizzyaon",
           "agkhaskheli",
           "meliodic",
           "mohtasimapon07",
           "tanamul",
           "unknown99",
           "dummy",
           "cricferoz",
           "liprik",
           "dillc",
           "mdleonhossain",
           "allax",
           "wizardjames",
           "togo",
           "oldazuki",
           "hapita",
           "luckynguyen",
           "ehsanh",
           "solodaneth",
           "peykan57",
           "axw",
           "mrbeast9999",
           "bigblackblack",
           "gestii",
           "nawnaw",
           "sonyasupposedly",
           "dunglv2492",
           "bahzad",
           "bantihero",
           "astravive",
           "harpreet2198",
           "ghostboy",
           "quycongg",
           "stanilens",
           "masterkenobi",
           "vinay771",
           "jamal341",
           "daino",
           "nerobtc",
           "vikeshm",
           "dmero64",
           "toonarmy",
           "jerryaaru",
           "ngochoass.eth",
           "cryptokamesh",
           "iamtushar",
           "akarsh",
           "skpme97",
           "oxzetsu",
           "shoaib473",
           "mamont5g.eth",
           "wh0ami",
           "weasel01",
           "subha1998",
           "cryptoinversor",
           "khuzeevjr",
           "edisun",
           "agot",
           "kirla",
           "xcountry",
           "danmeimao",
           "airchick",
           "sajib101",
           "dhl21",
           "redanim",
           "rubelraaz",
           "sudeepk87",
           "arpmikha",
           "haydnnvidiau",
           "cryptogirl36",
           "ceh9",
           "randallh",
           "sagarhalder",
           "bgh",
           "club-bax2024",
           "elaynekr",
           "mahoni105",
           "luckyluk",
           "santyq",
           "waggon",
           "micel32",
           "serkantopkara",
           "yorkiesmile",
           "oceanwhisper",
           "lunarlight",
           "yamaoka192",
           "wotifra",
           "ivankko",
           "elizabetheth",
           "isabelle32",
           "vijay341",
           "sunki",
           "rqwy",
           "genzee",
           "ashim27",
           "modomaa",
           "pangpondpj1",
           "pangpondj2",
           "dvd0512",
           "leidysanguino2",
           "kenxui99",
           "youngboy",
           "web3whiskers",
           "envio"
          ]
         },
         "recasters": [
          "dwr.eth",
          "markrhiannon",
          "rickdee.eth",
          "turbotinker",
          "sra786",
          "mohtasimapon07",
          "unknown99",
          "bigblackblack",
          "ghostboy",
          "stanilens",
          "vinay771",
          "jamal341",
          "vikeshm",
          "wh0ami",
          "agot",
          "serkantopkara",
          "modomaa",
          "pangpondpj1",
          "pangpondj2"
         ],
         "recasts": {
          "count": 19,
          "fids": [
           3,
           976616,
           16407,
           974191,
           258048,
           288665,
           294900,
           383857,
           476054,
           490786,
           493384,
           510274,
           524781,
           554082,
           580914,
           784347,
           893249,
           902460,
           902464
          ]
         },
         "replies": {
          "count": 6
         },
         "rootParentUrl": null,
         "text": "hello farcaster \n\nbeen fun playing with siwf and frames this last week",
         "threadHash": "0x57c8b4972cac4190db7700d089414711dba0fc99",
         "timestamp": "2025-01-31T05:54:26.000Z"
        },
        {
         "author": {
          "avatar_url": "https://imagedelivery.net/BXluQx4ige9GuW0Ia56BHw/fc61eb87-0536-4cb6-d265-1dc647fbb200/original",
          "bio": "cofounder @canvas, prev @common, squad @verses, selkie/acc and raymond.xyz",
          "city": "New York",
          "country": "United States of America",
          "country_code": "us",
          "custody_address": "0x2bbaee8900bb1664b1c83a3a4f142cdbf2224fb8",
          "display_name": "raymond",
          "fid": "144",
          "fname": "rz",
          "followercount": "2461",
          "followingcount": "490",
          "latitude": 40.71,
          "location": {
           "address": {
            "city": "New York",
            "country": "United States of America",
            "country_code": "us",
            "state": "New York",
            "state_code": "ny"
           },
           "latitude": 40.71,
           "longitude": -74.01
          },
          "longitude": -74.01,
          "power_badge": true,
          "state": "New York",
          "state_code": "ny",
          "url": null,
          "verified_accounts": [],
          "verified_ethereum_addresses": [
           "0x39963ab005866e0af9df3491f8d344f68d47b776",
           "0x34c3a5ea06a3a67229fb21a7043243b0eb3e853f"
          ],
          "verified_solana_addresses": [
           "GsMCsxjvzB8B8wWSJBruiDvwducKY5U6h5Knj3eW22Sx"
          ]
         },
         "channel": null,
         "embeds": [],
         "hash": "0xfb8f0679d7c22feba1c9013d5cc903f16ca5c523",
         "mentionedProfiles": [],
         "parentAuthor": {
          "fid": 320887
         },
         "parentHash": "0xc46061e1a84ae1bdb24b3705a40abb308131b5a4",
         "parentUrl": null,
         "reactions": {
          "count": 1,
          "fids": [
           320887
          ],
          "fnames": [
           "dillc"
          ]
         },
         "recasters": [],
         "recasts": {
          "count": 0,
          "fids": []
         },
         "replies": {
          "count": 0
         },
         "rootParentUrl": null,
         "text": "👀",
         "threadHash": "0xc46061e1a84ae1bdb24b3705a40abb308131b5a4",
         "timestamp": "2025-01-31T05:53:06.000Z"
        },
        {
         "author": {
          "avatar_url": "https://imagedelivery.net/BXluQx4ige9GuW0Ia56BHw/fc61eb87-0536-4cb6-d265-1dc647fbb200/original",
          "bio": "cofounder @canvas, prev @common, squad @verses, selkie/acc and raymond.xyz",
          "city": "New York",
          "country": "United States of America",
          "country_code": "us",
          "custody_address": "0x2bbaee8900bb1664b1c83a3a4f142cdbf2224fb8",
          "display_name": "raymond",
          "fid": "144",
          "fname": "rz",
          "followercount": "2461",
          "followingcount": "490",
          "latitude": 40.71,
          "location": {
           "address": {
            "city": "New York",
            "country": "United States of America",
            "country_code": "us",
            "state": "New York",
            "state_code": "ny"
           },
           "latitude": 40.71,
           "longitude": -74.01
          },
          "longitude": -74.01,
          "power_badge": true,
          "state": "New York",
          "state_code": "ny",
          "url": null,
          "verified_accounts": [],
          "verified_ethereum_addresses": [
           "0x39963ab005866e0af9df3491f8d344f68d47b776",
           "0x34c3a5ea06a3a67229fb21a7043243b0eb3e853f"
          ],
          "verified_solana_addresses": [
           "GsMCsxjvzB8B8wWSJBruiDvwducKY5U6h5Knj3eW22Sx"
          ]
         },
         "channel": {
          "id": "pg",
          "image_url": "https://i.imgur.com/ezcV4VV.png",
          "name": "PostgreSQL",
          "object": "channel_dehydrated"
         },
         "embeds": [],
         "hash": "0x26a968fa72e30745c5a0cddf28f6ffcb5ab70cad",
         "mentionedProfiles": [],
         "parentAuthor": {
          "fid": 2626
         },
         "parentHash": "0xe1a803d6a6cccd9fa97d24c079b54035e3f1b902",
         "parentUrl": null,
         "reactions": {
          "count": 2,
          "fids": [
           155,
           2626
          ],
          "fnames": [
           "will",
           "salief"
          ]
         },
         "recasters": [],
         "recasts": {
          "count": 0,
          "fids": []
         },
         "replies": {
          "count": 1
         },
         "rootParentUrl": "https://warpcast.com/~/channel/pg",
         "text": "Postico?",
         "threadHash": "0xe1a803d6a6cccd9fa97d24c079b54035e3f1b902",
         "timestamp": "2025-01-30T00:10:46.000Z"
        },
        {
         "author": {
          "avatar_url": "https://imagedelivery.net/BXluQx4ige9GuW0Ia56BHw/fc61eb87-0536-4cb6-d265-1dc647fbb200/original",
          "bio": "cofounder @canvas, prev @common, squad @verses, selkie/acc and raymond.xyz",
          "city": "New York",
          "country": "United States of America",
          "country_code": "us",
          "custody_address": "0x2bbaee8900bb1664b1c83a3a4f142cdbf2224fb8",
          "display_name": "raymond",
          "fid": "144",
          "fname": "rz",
          "followercount": "2461",
          "followingcount": "490",
          "latitude": 40.71,
          "location": {
           "address": {
            "city": "New York",
            "country": "United States of America",
            "country_code": "us",
            "state": "New York",
            "state_code": "ny"
           },
           "latitude": 40.71,
           "longitude": -74.01
          },
          "longitude": -74.01,
          "power_badge": true,
          "state": "New York",
          "state_code": "ny",
          "url": null,
          "verified_accounts": [],
          "verified_ethereum_addresses": [
           "0x39963ab005866e0af9df3491f8d344f68d47b776",
           "0x34c3a5ea06a3a67229fb21a7043243b0eb3e853f"
          ],
          "verified_solana_addresses": [
           "GsMCsxjvzB8B8wWSJBruiDvwducKY5U6h5Knj3eW22Sx"
          ]
         },
         "channel": null,
         "embeds": [],
         "hash": "0xa0f1185d2c6670091f1c1f601a7123971032f1f9",
         "mentionedProfiles": [],
         "parentAuthor": {
          "fid": 793979
         },
         "parentHash": "0xfcba62418938a062cab76128e72ee25f4396a1f8",
         "parentUrl": null,
         "reactions": {
          "count": 1,
          "fids": [
           793979
          ],
          "fnames": [
           "tedsalt"
          ]
         },
         "recasters": [],
         "recasts": {
          "count": 0,
          "fids": []
         },
         "replies": {
          "count": 0
         },
         "rootParentUrl": null,
         "text": "play the same games, win the same prizes",
         "threadHash": "0xfcba62418938a062cab76128e72ee25f4396a1f8",
         "timestamp": "2025-01-28T02:52:53.000Z"
        },
        {
         "author": {
          "avatar_url": "https://imagedelivery.net/BXluQx4ige9GuW0Ia56BHw/fc61eb87-0536-4cb6-d265-1dc647fbb200/original",
          "bio": "cofounder @canvas, prev @common, squad @verses, selkie/acc and raymond.xyz",
          "city": "New York",
          "country": "United States of America",
          "country_code": "us",
          "custody_address": "0x2bbaee8900bb1664b1c83a3a4f142cdbf2224fb8",
          "display_name": "raymond",
          "fid": "144",
          "fname": "rz",
          "followercount": "2461",
          "followingcount": "490",
          "latitude": 40.71,
          "location": {
           "address": {
            "city": "New York",
            "country": "United States of America",
            "country_code": "us",
            "state": "New York",
            "state_code": "ny"
           },
           "latitude": 40.71,
           "longitude": -74.01
          },
          "longitude": -74.01,
          "power_badge": true,
          "state": "New York",
          "state_code": "ny",
          "url": null,
          "verified_accounts": [],
          "verified_ethereum_addresses": [
           "0x39963ab005866e0af9df3491f8d344f68d47b776",
           "0x34c3a5ea06a3a67229fb21a7043243b0eb3e853f"
          ],
          "verified_solana_addresses": [
           "GsMCsxjvzB8B8wWSJBruiDvwducKY5U6h5Knj3eW22Sx"
          ]
         },
         "channel": {
          "id": "founders",
          "image_url": "https://warpcast.com/~/channel-images/founders.png",
          "name": "Founders",
          "object": "channel_dehydrated"
         },
         "embeds": [
          {
           "metadata": {
            "_status": "RESOLVED",
            "content_length": null,
            "content_type": "text/html;charset=utf-8",
            "html": {
             "favicon": "https://abs.twimg.com/favicons/twitter-pip.3.ico",
             "oembed": {
              "author_name": "roon",
              "author_url": "https://twitter.com/tszzl",
              "cache_age": "3153600000",
              "height": null,
              "html": "<blockquote class=\"twitter-tweet\"><p lang=\"en\" dir=\"ltr\">the culture has a new vitality that was missing</p>&mdash; roon (@tszzl) <a href=\"https://twitter.com/tszzl/status/1881093975811203343?ref_src=twsrc%5Etfw\">January 19, 2025</a></blockquote>\n<script async src=\"https://platform.twitter.com/widgets.js\" charset=\"utf-8\"></script>\n\n",
              "method": "provider-api",
              "provider_name": "Twitter",
              "provider_url": "https://twitter.com",
              "type": "rich",
              "url": "https://twitter.com/tszzl/status/1881093975811203343",
              "version": "1.0",
              "width": 550
             },
             "ogSiteName": "X (formerly Twitter)",
             "ogTitle": "x.com"
            }
           },
           "url": "https://x.com/tszzl/status/1881093975811203343?s=46"
          }
         ],
         "hash": "0x179866748a595be6b84c27b9ce1f0b08e2378e60",
         "mentionedProfiles": [],
         "parentAuthor": {
          "fid": null
         },
         "parentHash": null,
         "parentUrl": "https://farcaster.group/founders",
         "reactions": {
          "count": 61,
          "fids": [
           238,
           129,
           229,
           3,
           800,
           899,
           1016,
           1285,
           3380,
           4312,
           6741,
           9134,
           15838,
           17545,
           191307,
           191864,
           211365,
           235388,
           254361,
           254427,
           255701,
           257925,
           258048,
           301209,
           319605,
           320887,
           321035,
           336689,
           367426,
           369277,
           396551,
           435502,
           519219,
           548882,
           549693,
           557470,
           569745,
           639226,
           708496,
           708458,
           717410,
           737534,
           753567,
           755341,
           760960,
           767069,
           768919,
           800799,
           801992,
           803026,
           814948,
           816277,
           819791,
           820852,
           854304,
           860045,
           946094,
           947150,
           947533,
           955048,
           884183
          ],
          "fnames": [
           "hyperbad",
           "phil",
           "nvs",
           "dwr.eth",
           "nicole",
           "jasonkim.eth",
           "dj",
           "benersing",
           "dee",
           "anett",
           "sean07.eth",
           "promptrotator.eth",
           "chinmay.eth",
           "golden",
           "gambling",
           "kassandra",
           "fairmint",
           "nickryg",
           "olamilakan",
           "arunewbie",
           "binodhenry",
           "saleem",
           "sra786",
           "rupamhenry",
           "zkron23",
           "dillc",
           "amancera76",
           "oldengold",
           "experi",
           "daktic",
           "opbijoy29",
           "valboi",
           "salman8686",
           "embadsha",
           "zetroon92",
           "subha1998",
           "alchemisttt",
           "iamtherealyakuza.eth",
           "watsebhen",
           "amless",
           "free-aibot",
           "tavandat",
           "greggnedina",
           "vikakuba",
           "tondefi",
           "yunzhao3344",
           "airdropfreeshow",
           "flossycarrot",
           "kingr",
           "hosha12",
           "debi",
           "wanwan1228",
           "cflvwb",
           "merlinmasefield",
           "kirashka",
           "sunnyraj",
           "artem-m",
           "karwin",
           "duoking",
           "jaihoo",
           "tutaya35020"
          ]
         },
         "recasters": [
          "binodhenry",
          "sra786",
          "kamildebicki",
          "rupamhenry",
          "opbijoy29",
          "alanwalker-id",
          "free-aibot",
          "tondefi",
          "yunzhao3344",
          "airdropfreeshow",
          "paddy310",
          "flossycarrot",
          "wanwan1228",
          "w3rtgtfsdhfgd"
         ],
         "recasts": {
          "count": 14,
          "fids": [
           255701,
           258048,
           280566,
           301209,
           396551,
           676015,
           717410,
           760960,
           767069,
           768919,
           800383,
           800799,
           816277,
           827989
          ]
         },
         "replies": {
          "count": 7
         },
         "rootParentUrl": "https://farcaster.group/founders",
         "text": "If your crypto network doesn’t have a culture of people challenging each other, oversharing, and turning over existing status hierarchies it won’t have the sauce to challenge existing incumbents. This is what Solana understood better than anyone else.\n\nhttps://x.com/tszzl/status/1881093975811203343?s=46",
         "threadHash": "0x179866748a595be6b84c27b9ce1f0b08e2378e60",
         "timestamp": "2025-01-20T03:38:46.000Z"
        },
        {
         "author": {
          "avatar_url": "https://imagedelivery.net/BXluQx4ige9GuW0Ia56BHw/fc61eb87-0536-4cb6-d265-1dc647fbb200/original",
          "bio": "cofounder @canvas, prev @common, squad @verses, selkie/acc and raymond.xyz",
          "city": "New York",
          "country": "United States of America",
          "country_code": "us",
          "custody_address": "0x2bbaee8900bb1664b1c83a3a4f142cdbf2224fb8",
          "display_name": "raymond",
          "fid": "144",
          "fname": "rz",
          "followercount": "2461",
          "followingcount": "490",
          "latitude": 40.71,
          "location": {
           "address": {
            "city": "New York",
            "country": "United States of America",
            "country_code": "us",
            "state": "New York",
            "state_code": "ny"
           },
           "latitude": 40.71,
           "longitude": -74.01
          },
          "longitude": -74.01,
          "power_badge": true,
          "state": "New York",
          "state_code": "ny",
          "url": null,
          "verified_accounts": [],
          "verified_ethereum_addresses": [
           "0x39963ab005866e0af9df3491f8d344f68d47b776",
           "0x34c3a5ea06a3a67229fb21a7043243b0eb3e853f"
          ],
          "verified_solana_addresses": [
           "GsMCsxjvzB8B8wWSJBruiDvwducKY5U6h5Knj3eW22Sx"
          ]
         },
         "channel": null,
         "embeds": [],
         "hash": "0x768fcfb694bda0fb1dfc80ebb45739ab990e2f4e",
         "mentionedProfiles": [],
         "parentAuthor": {
          "fid": 300939
         },
         "parentHash": "0xa5cdfac63c61eaaec7a6a9154f90c1706fc007ba",
         "parentUrl": null,
         "reactions": {
          "count": 0,
          "fids": []
         },
         "recasters": [],
         "recasts": {
          "count": 0,
          "fids": []
         },
         "replies": {
          "count": 0
         },
         "rootParentUrl": null,
         "text": "Exactly",
         "threadHash": "0xa5cdfac63c61eaaec7a6a9154f90c1706fc007ba",
         "timestamp": "2025-01-20T02:51:50.000Z"
        },
        {
         "author": {
          "avatar_url": "https://imagedelivery.net/BXluQx4ige9GuW0Ia56BHw/fc61eb87-0536-4cb6-d265-1dc647fbb200/original",
          "bio": "cofounder @canvas, prev @common, squad @verses, selkie/acc and raymond.xyz",
          "city": "New York",
          "country": "United States of America",
          "country_code": "us",
          "custody_address": "0x2bbaee8900bb1664b1c83a3a4f142cdbf2224fb8",
          "display_name": "raymond",
          "fid": "144",
          "fname": "rz",
          "followercount": "2461",
          "followingcount": "490",
          "latitude": 40.71,
          "location": {
           "address": {
            "city": "New York",
            "country": "United States of America",
            "country_code": "us",
            "state": "New York",
            "state_code": "ny"
           },
           "latitude": 40.71,
           "longitude": -74.01
          },
          "longitude": -74.01,
          "power_badge": true,
          "state": "New York",
          "state_code": "ny",
          "url": null,
          "verified_accounts": [],
          "verified_ethereum_addresses": [
           "0x39963ab005866e0af9df3491f8d344f68d47b776",
           "0x34c3a5ea06a3a67229fb21a7043243b0eb3e853f"
          ],
          "verified_solana_addresses": [
           "GsMCsxjvzB8B8wWSJBruiDvwducKY5U6h5Knj3eW22Sx"
          ]
         },
         "channel": null,
         "embeds": [
          {
           "metadata": {
            "_status": "RESOLVED",
            "content_length": 872372,
            "content_type": "image/png",
            "image": {
             "height_px": 955,
             "width_px": 667
            }
           },
           "url": "https://supercast.mypinata.cloud/ipfs/QmXp1EYTZCgDqTvfQ3i2cu4LJ1x19Ge1J3JgaEy4DRB4Uq?filename=image.png"
          }
         ],
         "hash": "0x700fcebad504d0aa32f86cd238a6fe9748904a8f",
         "mentionedProfiles": [],
         "parentAuthor": {
          "fid": 4606
         },
         "parentHash": "0x94a3bdac29c5f15dd8843c694003c54289c908f1",
         "parentUrl": null,
         "reactions": {
          "count": 1,
          "fids": [
           11760
          ],
          "fnames": [
           "na"
          ]
         },
         "recasters": [],
         "recasts": {
          "count": 0,
          "fids": []
         },
         "replies": {
          "count": 0
         },
         "rootParentUrl": null,
         "text": "",
         "threadHash": "0x94a3bdac29c5f15dd8843c694003c54289c908f1",
         "timestamp": "2025-01-07T23:17:49.000Z"
        },
        {
         "author": {
          "avatar_url": "https://imagedelivery.net/BXluQx4ige9GuW0Ia56BHw/fc61eb87-0536-4cb6-d265-1dc647fbb200/original",
          "bio": "cofounder @canvas, prev @common, squad @verses, selkie/acc and raymond.xyz",
          "city": "New York",
          "country": "United States of America",
          "country_code": "us",
          "custody_address": "0x2bbaee8900bb1664b1c83a3a4f142cdbf2224fb8",
          "display_name": "raymond",
          "fid": "144",
          "fname": "rz",
          "followercount": "2461",
          "followingcount": "490",
          "latitude": 40.71,
          "location": {
           "address": {
            "city": "New York",
            "country": "United States of America",
            "country_code": "us",
            "state": "New York",
            "state_code": "ny"
           },
           "latitude": 40.71,
           "longitude": -74.01
          },
          "longitude": -74.01,
          "power_badge": true,
          "state": "New York",
          "state_code": "ny",
          "url": null,
          "verified_accounts": [],
          "verified_ethereum_addresses": [
           "0x39963ab005866e0af9df3491f8d344f68d47b776",
           "0x34c3a5ea06a3a67229fb21a7043243b0eb3e853f"
          ],
          "verified_solana_addresses": [
           "GsMCsxjvzB8B8wWSJBruiDvwducKY5U6h5Knj3eW22Sx"
          ]
         },
         "channel": null,
         "embeds": [],
         "hash": "0x07032648fde8493e589380436f88f9f90f150b8a",
         "mentionedProfiles": [
          {
           "custodyAddress": "0x0b28a373fc8d92669aefb420499e74ce2dd5d356",
           "displayName": "​woj",
           "fid": 680,
           "followerCount": 221497,
           "followingCount": 1206,
           "pfp": {
            "url": "https://peach-changing-limpet-80.mypinata.cloud/ipfs/QmZenqRfBERmodRVUHhLaYvYVsRasihVcMY2gqUP2tX7t2?filename=profile_picture.png"
           },
           "powerBadge": true,
           "profile": {
            "bio": {
             "mentionedProfiles": [],
             "text": "trenches @warpcast"
            }
           },
           "username": "woj.eth",
           "verifications": [
            "0xf417ace7b13c0ef4fcb5548390a450a4b75d3eb3",
            "0x58fe7e684650eebc7b1fdaea33c67961dd2e6c0e"
           ],
           "verifiedAddresses": {
            "eth_addresses": [
             "0xf417ace7b13c0ef4fcb5548390a450a4b75d3eb3",
             "0x58fe7e684650eebc7b1fdaea33c67961dd2e6c0e"
            ],
            "sol_addresses": []
           }
          }
         ],
         "parentAuthor": {
          "fid": null
         },
         "parentHash": null,
         "parentUrl": null,
         "reactions": {
          "count": 37,
          "fids": [
           3,
           1374,
           2495,
           3621,
           570971,
           579164,
           772926,
           779202,
           801992,
           810486,
           892989,
           894250,
           899335,
           900117,
           901291,
           901322,
           901872,
           902472,
           903834,
           904879,
           905079,
           907359,
           907606,
           907849,
           909511,
           917423,
           917591,
           924977,
           933354,
           933908,
           936612,
           936695,
           937051,
           937093,
           938142,
           939088,
           886098
          ],
          "fnames": [
           "dwr.eth",
           "shinyzero.eth",
           "sabina",
           "horsefacts.eth",
           "web3worlds",
           "vvvvz",
           "chanelshayaq",
           "faatimah",
           "kingr",
           "chen188",
           "sutsuna",
           "zennipickes",
           "tmama",
           "violynnifkinoid",
           "doodlecuddlyleil",
           "thestyx652",
           "murphylako918",
           "pangpondj4",
           "dfg8ygns8",
           "roundrugger",
           "carlreade",
           "maybelleod",
           "leidysanguino2",
           "payzleekd",
           "fitchtomlinson",
           "zendrifter",
           "nguyenvanthuy",
           "itzzenox",
           "emma070",
           "kcbigdawg",
           "ataur",
           "watsap",
           "bekdev",
           "rdp1",
           "0xmusah",
           "melkis",
           "youfeelingsweet5"
          ]
         },
         "recasters": [
          "chanelshayaq",
          "pangpondj4"
         ],
         "recasts": {
          "count": 2,
          "fids": [
           772926,
           902472
          ]
         },
         "replies": {
          "count": 8
         },
         "rootParentUrl": null,
         "text": "ok I need an AI PET. I cant take this anymore. every day I am checking super ai pets waitlist and still no ai pet. every day, check waitlist, no ai pet. I cant take this anymore, I have over invested, by a lot. I pay $10 a month for this shit. it is what it is. but I need an AI PET NOW. can @woj.eth DO SOMETHING",
         "threadHash": "0x07032648fde8493e589380436f88f9f90f150b8a",
         "timestamp": "2025-01-07T23:16:58.000Z"
        },
        {
         "author": {
          "avatar_url": "https://imagedelivery.net/BXluQx4ige9GuW0Ia56BHw/fc61eb87-0536-4cb6-d265-1dc647fbb200/original",
          "bio": "cofounder @canvas, prev @common, squad @verses, selkie/acc and raymond.xyz",
          "city": "New York",
          "country": "United States of America",
          "country_code": "us",
          "custody_address": "0x2bbaee8900bb1664b1c83a3a4f142cdbf2224fb8",
          "display_name": "raymond",
          "fid": "144",
          "fname": "rz",
          "followercount": "2461",
          "followingcount": "490",
          "latitude": 40.71,
          "location": {
           "address": {
            "city": "New York",
            "country": "United States of America",
            "country_code": "us",
            "state": "New York",
            "state_code": "ny"
           },
           "latitude": 40.71,
           "longitude": -74.01
          },
          "longitude": -74.01,
          "power_badge": true,
          "state": "New York",
          "state_code": "ny",
          "url": null,
          "verified_accounts": [],
          "verified_ethereum_addresses": [
           "0x39963ab005866e0af9df3491f8d344f68d47b776",
           "0x34c3a5ea06a3a67229fb21a7043243b0eb3e853f"
          ],
          "verified_solana_addresses": [
           "GsMCsxjvzB8B8wWSJBruiDvwducKY5U6h5Knj3eW22Sx"
          ]
         },
         "channel": null,
         "embeds": [],
         "hash": "0x4292e734d831d4170cee4704ff00ed608227ea88",
         "mentionedProfiles": [],
         "parentAuthor": {
          "fid": 473
         },
         "parentHash": "0x04d02b254090cc19d2897afa22e46674be3a88d0",
         "parentUrl": null,
         "reactions": {
          "count": 0,
          "fids": []
         },
         "recasters": [],
         "recasts": {
          "count": 0,
          "fids": []
         },
         "replies": {
          "count": 1
         },
         "rootParentUrl": null,
         "text": "Congrats!!",
         "threadHash": "0x04d02b254090cc19d2897afa22e46674be3a88d0",
         "timestamp": "2024-12-31T03:35:35.000Z"
        },
        {
         "author": {
          "avatar_url": "https://imagedelivery.net/BXluQx4ige9GuW0Ia56BHw/fc61eb87-0536-4cb6-d265-1dc647fbb200/original",
          "bio": "cofounder @canvas, prev @common, squad @verses, selkie/acc and raymond.xyz",
          "city": "New York",
          "country": "United States of America",
          "country_code": "us",
          "custody_address": "0x2bbaee8900bb1664b1c83a3a4f142cdbf2224fb8",
          "display_name": "raymond",
          "fid": "144",
          "fname": "rz",
          "followercount": "2461",
          "followingcount": "490",
          "latitude": 40.71,
          "location": {
           "address": {
            "city": "New York",
            "country": "United States of America",
            "country_code": "us",
            "state": "New York",
            "state_code": "ny"
           },
           "latitude": 40.71,
           "longitude": -74.01
          },
          "longitude": -74.01,
          "power_badge": true,
          "state": "New York",
          "state_code": "ny",
          "url": null,
          "verified_accounts": [],
          "verified_ethereum_addresses": [
           "0x39963ab005866e0af9df3491f8d344f68d47b776",
           "0x34c3a5ea06a3a67229fb21a7043243b0eb3e853f"
          ],
          "verified_solana_addresses": [
           "GsMCsxjvzB8B8wWSJBruiDvwducKY5U6h5Knj3eW22Sx"
          ]
         },
         "channel": null,
         "embeds": [],
         "hash": "0x6ceb17d024292d586547c4074afaec64678f694a",
         "mentionedProfiles": [],
         "parentAuthor": {
          "fid": 3346
         },
         "parentHash": "0xed5cc4f1dabbb5adea487e58194e8232e63f84ff",
         "parentUrl": null,
         "reactions": {
          "count": 1,
          "fids": [
           3346
          ],
          "fnames": [
           "haole"
          ]
         },
         "recasters": [],
         "recasts": {
          "count": 0,
          "fids": []
         },
         "replies": {
          "count": 0
         },
         "rootParentUrl": null,
         "text": "Not sure, but probably just the default feeds",
         "threadHash": "0xe0ee3cf953185d806e59bc64914e7d0b042f1c9a",
         "timestamp": "2024-11-30T22:44:28.000Z"
        },
        {
         "author": {
          "avatar_url": "https://imagedelivery.net/BXluQx4ige9GuW0Ia56BHw/fc61eb87-0536-4cb6-d265-1dc647fbb200/original",
          "bio": "cofounder @canvas, prev @common, squad @verses, selkie/acc and raymond.xyz",
          "city": "New York",
          "country": "United States of America",
          "country_code": "us",
          "custody_address": "0x2bbaee8900bb1664b1c83a3a4f142cdbf2224fb8",
          "display_name": "raymond",
          "fid": "144",
          "fname": "rz",
          "followercount": "2461",
          "followingcount": "490",
          "latitude": 40.71,
          "location": {
           "address": {
            "city": "New York",
            "country": "United States of America",
            "country_code": "us",
            "state": "New York",
            "state_code": "ny"
           },
           "latitude": 40.71,
           "longitude": -74.01
          },
          "longitude": -74.01,
          "power_badge": true,
          "state": "New York",
          "state_code": "ny",
          "url": null,
          "verified_accounts": [],
          "verified_ethereum_addresses": [
           "0x39963ab005866e0af9df3491f8d344f68d47b776",
           "0x34c3a5ea06a3a67229fb21a7043243b0eb3e853f"
          ],
          "verified_solana_addresses": [
           "GsMCsxjvzB8B8wWSJBruiDvwducKY5U6h5Knj3eW22Sx"
          ]
         },
         "channel": null,
         "embeds": [],
         "hash": "0xe0ee3cf953185d806e59bc64914e7d0b042f1c9a",
         "mentionedProfiles": [
          {
           "custodyAddress": "0x02ef790dd7993a35fd847c053eddae940d055596",
           "displayName": "Warpcast",
           "fid": 9152,
           "followerCount": 16060,
           "followingCount": 50,
           "pfp": {
            "url": "https://i.imgur.com/3d6fFAI.png"
           },
           "powerBadge": true,
           "profile": {
            "bio": {
             "mentionedProfiles": [],
             "text": "A Farcaster client."
            }
           },
           "username": "warpcast",
           "verifications": [],
           "verifiedAddresses": {
            "eth_addresses": [],
            "sol_addresses": []
           }
          },
          {
           "custodyAddress": "0x6cd5bd3d7529544d2c813ac50be30c6de5c788e6",
           "displayName": "Recaster",
           "fid": 356900,
           "followerCount": 415,
           "followingCount": 1,
           "pfp": {
            "url": "https://imagedelivery.net/BXluQx4ige9GuW0Ia56BHw/9adb7411-9317-45bd-2c0e-da2d612ae800/original"
           },
           "powerBadge": false,
           "profile": {
            "bio": {
             "mentionedProfiles": [],
             "text": "A Farcaster native client.\nAvailable for iOS & Android.\n\nJoin /recaster to get more info!\n\nBuilt by @haole · recaster.org"
            }
           },
           "username": "recaster-fc",
           "verifications": [
            "0x30f7927ef5b6b333ce96dedacaba7ca5f439b335"
           ],
           "verifiedAddresses": {
            "eth_addresses": [
             "0x30f7927ef5b6b333ce96dedacaba7ca5f439b335"
            ],
            "sol_addresses": []
           }
          }
         ],
         "parentAuthor": {
          "fid": null
         },
         "parentHash": null,
         "parentUrl": null,
         "reactions": {
          "count": 140,
          "fids": [
           3,
           677,
           1661,
           3346,
           6915,
           6841,
           14127,
           15373,
           17545,
           17547,
           191694,
           194233,
           218385,
           236991,
           240848,
           253051,
           256137,
           256328,
           257490,
           260010,
           261887,
           262086,
           265551,
           266490,
           269861,
           275185,
           282575,
           310236,
           327824,
           329853,
           337028,
           342071,
           343289,
           343690,
           346056,
           361782,
           374773,
           405585,
           409431,
           425399,
           426080,
           447511,
           449425,
           455445,
           459036,
           481505,
           488261,
           489127,
           490969,
           491701,
           492340,
           494150,
           495086,
           498804,
           500708,
           519359,
           522396,
           524244,
           525849,
           529802,
           531358,
           532589,
           535940,
           536601,
           540216,
           540570,
           543909,
           544888,
           545550,
           548579,
           549749,
           556533,
           556626,
           557362,
           558766,
           564384,
           565136,
           565211,
           578795,
           582752,
           592939,
           593341,
           599517,
           600864,
           601178,
           605666,
           606719,
           608432,
           617711,
           632155,
           632545,
           646825,
           646967,
           659562,
           661915,
           668473,
           678362,
           711622,
           714810,
           718622,
           719566,
           749481,
           756246,
           766882,
           780182,
           782073,
           783368,
           812071,
           833137,
           834485,
           834626,
           835628,
           843787,
           844934,
           845395,
           848964,
           851844,
           861226,
           862528,
           862711,
           871430,
           871609,
           877258,
           880377,
           881875,
           882027,
           882781,
           885502,
           887392,
           887864,
           888672,
           889492,
           889633,
           891366,
           891313,
           903834,
           905079,
           909511,
           938142,
           884783
          ],
          "fnames": [
           "dwr.eth",
           "akigue",
           "kevinnewmanyo",
           "haole",
           "paulus",
           "deodad",
           "jianbing.eth",
           "momoka",
           "golden",
           "myat",
           "kiba",
           "oxcryptopanda",
           "robb86",
           "ayaya",
           "basebro.eth",
           "nif",
           "09jul",
           "shakil4",
           "jaka",
           "jppandat",
           "airdrop123",
           "curzwalk",
           "0xcapy",
           "tophb",
           "khan19faiyyaz26",
           "wesy",
           "akpfineart",
           "shafikul",
           "md-mufasa",
           "headmaster",
           "natesan1107",
           "shaga1",
           "drlee",
           "sabia",
           "lefrinmanik",
           "jubayer",
           "tcong2201",
           "kboflife",
           "deveshjha",
           "izuchi",
           "purecore-fn",
           "dectective",
           "0xnuel",
           "perzy22",
           "sahilgilla",
           "dcdcdc",
           "nilesh366",
           "kingald",
           "wrapongreen0x",
           "dobros",
           "indrissaherrera",
           "mrravi253.eth",
           "virender",
           "naeem1",
           "chillyfame",
           "kriptopotti",
           "gouttam",
           "shailendra2607",
           "madhabthakur",
           "mortadx",
           "dinx",
           "thecryptolooter",
           "alpha4959",
           "biigii",
           "ixieansa",
           "ayushkr",
           "tas89",
           "suresh2001",
           "shayuq42.eth",
           "stepaks675",
           "hybee123",
           "kzk88888",
           "cinderella34",
           "xxivwchy",
           "crabada",
           "anandapradhan",
           "lawam",
           "fenixserhii",
           "habib777",
           "iskander",
           "binhhuynh",
           "tokijapan",
           "juravel",
           "yousufali",
           "hosen3275",
           "glendain",
           "mahbubul",
           "kishmish",
           "dmr7228",
           "ra5taman",
           "kiewermassiv",
           "eddi001",
           "hamidshah",
           "brutik",
           "buaile5",
           "bibikx",
           "kikedoc",
           "oladium",
           "blackaster",
           "checkcheck",
           "skh",
           "ugercik",
           "prince90",
           "ladyhaha",
           "zmichnik",
           "btcsol",
           "ladyfive",
           "alixza",
           "cryptovirtuosox1",
           "sankink",
           "andyse",
           "sater",
           "volsient",
           "maslina228",
           "3nergy",
           "azimkazi",
           "muranda19",
           "charlessmith",
           "mizmo",
           "manzamusa",
           "urbanwanderer",
           "xiaohetao",
           "bcbc",
           "1vdesfan00",
           "behueman",
           "2270",
           "xzty",
           "alexbaser",
           "zyrah",
           "ali82",
           "elariss",
           "0xibrahm",
           "0xkatre1",
           "andybi",
           "maddogkiller",
           "dfg8ygns8",
           "carlreade",
           "fitchtomlinson",
           "0xmusah",
           "claydirt6897"
          ]
         },
         "recasters": [
          "dwr.eth",
          "curzwalk",
          "0xcapy",
          "shafikul",
          "drlee",
          "purecore-fn",
          "cryptoyolculuk",
          "hybee123",
          "crabada",
          "habib777",
          "dmr7228",
          "oladium",
          "btcsol",
          "cokkampot",
          "mariagonzalez",
          "maryharrisev",
          "0xkatre1"
         ],
         "recasts": {
          "count": 17,
          "fids": [
           3,
           262086,
           265551,
           310236,
           343289,
           426080,
           457337,
           549749,
           558766,
           578795,
           617711,
           711622,
           782073,
           852947,
           860827,
           861235,
           889633
          ]
         },
         "replies": {
          "count": 11
         },
         "rootParentUrl": null,
         "text": "Something that I notice while using @warpcast and @recaster-fc is that the Warpcast feed is “better” (longer posts, more polished) but the Recaster feed is more personal - more organic, raw, more early stage alpha.",
         "threadHash": "0xe0ee3cf953185d806e59bc64914e7d0b042f1c9a",
         "timestamp": "2024-11-30T21:57:17.000Z"
        },
        {
         "author": {
          "avatar_url": "https://imagedelivery.net/BXluQx4ige9GuW0Ia56BHw/fc61eb87-0536-4cb6-d265-1dc647fbb200/original",
          "bio": "cofounder @canvas, prev @common, squad @verses, selkie/acc and raymond.xyz",
          "city": "New York",
          "country": "United States of America",
          "country_code": "us",
          "custody_address": "0x2bbaee8900bb1664b1c83a3a4f142cdbf2224fb8",
          "display_name": "raymond",
          "fid": "144",
          "fname": "rz",
          "followercount": "2461",
          "followingcount": "490",
          "latitude": 40.71,
          "location": {
           "address": {
            "city": "New York",
            "country": "United States of America",
            "country_code": "us",
            "state": "New York",
            "state_code": "ny"
           },
           "latitude": 40.71,
           "longitude": -74.01
          },
          "longitude": -74.01,
          "power_badge": true,
          "state": "New York",
          "state_code": "ny",
          "url": null,
          "verified_accounts": [],
          "verified_ethereum_addresses": [
           "0x39963ab005866e0af9df3491f8d344f68d47b776",
           "0x34c3a5ea06a3a67229fb21a7043243b0eb3e853f"
          ],
          "verified_solana_addresses": [
           "GsMCsxjvzB8B8wWSJBruiDvwducKY5U6h5Knj3eW22Sx"
          ]
         },
         "channel": {
          "id": "higher",
          "image_url": "https://i.imgur.com/bdQcnVI.png",
          "name": "HIGHER",
          "object": "channel_dehydrated"
         },
         "embeds": [
          {
           "metadata": {
            "_status": "RESOLVED",
            "content_length": 3524131,
            "content_type": "image/png",
            "image": {
             "height_px": 2000,
             "width_px": 1500
            }
           },
           "url": "https://cdn.recaster.org/cast/2426b8d7-5086-43d9-be52-925d13c9edaa.png"
          }
         ],
         "hash": "0x5ac9b5ea58de191d26760a7686eba3e5ad8bd1f4",
         "mentionedProfiles": [],
         "parentAuthor": {
          "fid": null
         },
         "parentHash": null,
         "parentUrl": "https://warpcast.com/~/channel/higher",
         "reactions": {
          "count": 7,
          "fids": [
           191307,
           193607,
           806987,
           895140,
           938142,
           884859,
           753567
          ],
          "fnames": [
           "gambling",
           "web3girl",
           "g0lem11",
           "jojo688",
           "0xmusah",
           "blueness7",
           "greggnedina"
          ]
         },
         "recasters": [],
         "recasts": {
          "count": 0,
          "fids": []
         },
         "replies": {
          "count": 1
         },
         "rootParentUrl": "https://warpcast.com/~/channel/higher",
         "text": "Hong Kong is going /higher ",
         "threadHash": "0x5ac9b5ea58de191d26760a7686eba3e5ad8bd1f4",
         "timestamp": "2024-11-20T04:33:24.000Z"
        },
        {
         "author": {
          "avatar_url": "https://imagedelivery.net/BXluQx4ige9GuW0Ia56BHw/fc61eb87-0536-4cb6-d265-1dc647fbb200/original",
          "bio": "cofounder @canvas, prev @common, squad @verses, selkie/acc and raymond.xyz",
          "city": "New York",
          "country": "United States of America",
          "country_code": "us",
          "custody_address": "0x2bbaee8900bb1664b1c83a3a4f142cdbf2224fb8",
          "display_name": "raymond",
          "fid": "144",
          "fname": "rz",
          "followercount": "2461",
          "followingcount": "490",
          "latitude": 40.71,
          "location": {
           "address": {
            "city": "New York",
            "country": "United States of America",
            "country_code": "us",
            "state": "New York",
            "state_code": "ny"
           },
           "latitude": 40.71,
           "longitude": -74.01
          },
          "longitude": -74.01,
          "power_badge": true,
          "state": "New York",
          "state_code": "ny",
          "url": null,
          "verified_accounts": [],
          "verified_ethereum_addresses": [
           "0x39963ab005866e0af9df3491f8d344f68d47b776",
           "0x34c3a5ea06a3a67229fb21a7043243b0eb3e853f"
          ],
          "verified_solana_addresses": [
           "GsMCsxjvzB8B8wWSJBruiDvwducKY5U6h5Knj3eW22Sx"
          ]
         },
         "channel": null,
         "embeds": [],
         "hash": "0x07cb6ce1bb1b778c12efede57cc0e7d1bb8fb046",
         "mentionedProfiles": [],
         "parentAuthor": {
          "fid": 2112
         },
         "parentHash": "0xdeb429d5be5642aa23016dd75134c6b4c2a5c4b5",
         "parentUrl": null,
         "reactions": {
          "count": 0,
          "fids": []
         },
         "recasters": [],
         "recasts": {
          "count": 0,
          "fids": []
         },
         "replies": {
          "count": 0
         },
         "rootParentUrl": null,
         "text": "I just like top hats ",
         "threadHash": "0x07cb6ce1bb1b778c12efede57cc0e7d1bb8fb046",
         "timestamp": "2024-10-14T18:53:44.000Z"
        }
       ],
       "next": {
        "cursor": "eyJ0aW1lc3RhbXAiOiIyMDI0LTEwLTE0IDE4OjUzOjQ0LjAwMDAwMDAifQ%3D%3D"
       }
      },
      "text/plain": [
       "<IPython.core.display.JSON object>"
      ]
     },
     "metadata": {
      "application/json": {
       "expanded": false,
       "root": "root"
      }
     },
     "output_type": "display_data"
    },
    {
     "name": "stdout",
     "output_type": "stream",
     "text": [
      "📌 Extracted Bio: cofounder @canvas, prev @common, squad @verses, selkie/acc and raymond.xyz\n",
      "📌 Extracted Posts:\n",
      "['Good governance: https://x.com/stopachka/status/1891225431866827156?s=46',\n",
      " 'eth- (crowd cheers) cel (crowd boos) ...leration!! (crowd breaks out into '\n",
      " 'applause)',\n",
      " 'One angle on this that’s actually interesting is Cosmos, which never took on '\n",
      " 'Ethereum’s research focus or Solana’s strategy focus, but instead had a '\n",
      " 'technical fundamentals focus (paired with economic autarky)\\n'\n",
      " '\\n'\n",
      " 'First call with ICF we talked about IBC as TCP/IP, and it was actually '\n",
      " 'credible',\n",
      " 'Also this',\n",
      " 'I think about this all the time',\n",
      " \"No one place in particular, but seems people feel like their voices aren't \"\n",
      " 'being heard, in Eth, in the US, etc\\n'\n",
      " '\\n'\n",
      " 'Public figures that used to participate in good faith discourse are being '\n",
      " 'replaced by people like Nikita Bier who are knowledgeable but also make '\n",
      " 'numbers go up',\n",
      " 'I stole this cast',\n",
      " 'Governance.\\n\\nWe gotta figure that out',\n",
      " 'Congrats Jesse!!',\n",
      " '@ghost',\n",
      " 'switched my feed from algo to following, now i get technical eth posts '\n",
      " 'instead of new coins and nft mints. pretty nice change',\n",
      " 'they are engineered but yes',\n",
      " 'hello farcaster \\n\\nbeen fun playing with siwf and frames this last week',\n",
      " '👀',\n",
      " 'Postico?',\n",
      " 'play the same games, win the same prizes',\n",
      " 'If your crypto network doesn’t have a culture of people challenging each '\n",
      " 'other, oversharing, and turning over existing status hierarchies it won’t '\n",
      " 'have the sauce to challenge existing incumbents. This is what Solana '\n",
      " 'understood better than anyone else.\\n'\n",
      " '\\n'\n",
      " 'https://x.com/tszzl/status/1881093975811203343?s=46',\n",
      " 'Exactly',\n",
      " '',\n",
      " 'ok I need an AI PET. I cant take this anymore. every day I am checking super '\n",
      " 'ai pets waitlist and still no ai pet. every day, check waitlist, no ai pet. '\n",
      " 'I cant take this anymore, I have over invested, by a lot. I pay $10 a month '\n",
      " 'for this shit. it is what it is. but I need an AI PET NOW. can @woj.eth DO '\n",
      " 'SOMETHING',\n",
      " 'Congrats!!',\n",
      " 'Not sure, but probably just the default feeds',\n",
      " 'Something that I notice while using @warpcast and @recaster-fc is that the '\n",
      " 'Warpcast feed is “better” (longer posts, more polished) but the Recaster '\n",
      " 'feed is more personal - more organic, raw, more early stage alpha.',\n",
      " 'Hong Kong is going /higher ',\n",
      " 'I just like top hats ']\n",
      "🔍 Generating JSON profile for: rz\n",
      "🔍 DEBUG: Username: rz\n",
      "🔍 DEBUG: Bio: cofounder @canvas, prev @common, squad @verses, selkie/acc and raymond.xyz\n",
      "🔍 DEBUG: Posts: ['Good governance: https://x.com/stopachka/status/1891225431866827156?s=46', 'eth- (crowd cheers) cel (crowd boos) ...leration!! (crowd breaks out into applause)', 'One angle on this that’s actually interesting is Cosmos, which never took on Ethereum’s research focus or Solana’s strategy focus, but instead had a technical fundamentals focus (paired with economic autarky)\\n\\nFirst call with ICF we talked about IBC as TCP/IP, and it was actually credible', 'Also this', 'I think about this all the time', \"No one place in particular, but seems people feel like their voices aren't being heard, in Eth, in the US, etc\\n\\nPublic figures that used to participate in good faith discourse are being replaced by people like Nikita Bier who are knowledgeable but also make numbers go up\", 'I stole this cast', 'Governance.\\n\\nWe gotta figure that out', 'Congrats Jesse!!', '@ghost', 'switched my feed from algo to following, now i get technical eth posts instead of new coins and nft mints. pretty nice change', 'they are engineered but yes', 'hello farcaster \\n\\nbeen fun playing with siwf and frames this last week', '👀', 'Postico?', 'play the same games, win the same prizes', 'If your crypto network doesn’t have a culture of people challenging each other, oversharing, and turning over existing status hierarchies it won’t have the sauce to challenge existing incumbents. This is what Solana understood better than anyone else.\\n\\nhttps://x.com/tszzl/status/1881093975811203343?s=46', 'Exactly', '', 'ok I need an AI PET. I cant take this anymore. every day I am checking super ai pets waitlist and still no ai pet. every day, check waitlist, no ai pet. I cant take this anymore, I have over invested, by a lot. I pay $10 a month for this shit. it is what it is. but I need an AI PET NOW. can @woj.eth DO SOMETHING', 'Congrats!!', 'Not sure, but probably just the default feeds', 'Something that I notice while using @warpcast and @recaster-fc is that the Warpcast feed is “better” (longer posts, more polished) but the Recaster feed is more personal - more organic, raw, more early stage alpha.', 'Hong Kong is going /higher ', 'I just like top hats ']\n"
     ]
    }
   ],
   "source": [
    "if fid:\n",
    "    # `FID` からプロフィールを取得\n",
    "    url = FARCASTER_POSTS_API.format(fid)\n",
    "    headers = {\"accept\": \"application/json\", \"authorization\": f\"Bearer {PINATA_JWT}\"}\n",
    "    print(f\"🔍 Fetching posts for FID: {fid}\")\n",
    "    try:\n",
    "        response = requests.get(url, headers=headers)\n",
    "        response.raise_for_status()\n",
    "        posts_data = response.json()\n",
    "        print(\"✅ Raw Posts Data:\")\n",
    "        display(JSON(posts_data))\n",
    "        \n",
    "        # Bioの抽出\n",
    "        author_data = posts_data.get(\"casts\", [])[0].get(\"author\", {})\n",
    "        bio = author_data.get(\"bio\", \"No bio available.\")\n",
    "        print(f\"📌 Extracted Bio: {bio}\")\n",
    "        \n",
    "        # Postの抽出\n",
    "        posts = [cast.get(\"text\", \"\") for cast in posts_data.get(\"casts\", []) if \"text\" in cast]\n",
    "        posts = posts if posts else [\"No posts available.\"]\n",
    "        print(\"📌 Extracted Posts:\")\n",
    "        pprint(posts)\n",
    "    except Exception as e:\n",
    "        print(f\"❌ Error getting posts: {e}\")\n",
    "        bio = \"No bio available.\"\n",
    "        posts = [\"No posts available.\"]\n",
    "\n",
    "    # JSONプロファイルを生成\n",
    "    print(f\"🔍 Generating JSON profile for: {username}\")\n",
    "    \n",
    "    # 明示的に変数が取得できていることを確認\n",
    "    print(f\"🔍 DEBUG: Username: {username}\")\n",
    "    print(f\"🔍 DEBUG: Bio: {bio}\")\n",
    "    print(f\"🔍 DEBUG: Posts: {posts}\")\n"
   ]
  },
  {
   "cell_type": "code",
   "execution_count": 7,
   "metadata": {},
   "outputs": [
    {
     "name": "stdout",
     "output_type": "stream",
     "text": [
      "🔍 OpenAI Response (Raw):\n",
      "```json\n",
      "{\n",
      "    \"profile\": {\n",
      "        \"fullName\": \"rz\",\n",
      "        \"bio\": \"cofounder @canvas, prev @common, squad @verses, selkie/acc and raymond.xyz\",\n",
      "        \"posts\": [\"Good governance: https://x.com/stopachka/status/1891225431866827156?s=46\", \"eth- (crowd cheers) cel (crowd boos) ...leration!! (crowd breaks out into applause)\", \"One angle on this that’s actually interesting is Cosmos, which never took on Ethereum’s research focus or Solana’s strategy focus, but instead had a technical fundamentals focus (paired with economic autarky)\\n\\nFirst call with ICF we talked about IBC as TCP/IP, and it was actually credible\", \"Also this\", \"I think about this all the time\", \"No one place in particular, but seems people feel like their voices aren't being heard, in Eth, in the US, etc\\n\\nPublic figures that used to participate in good faith discourse are being replaced by people like Nikita Bier who are knowledgeable but also make numbers go up\", \"I stole this cast\", \"Governance.\\n\\nWe gotta figure that out\", \"Congrats Jesse!!\", \"@ghost\", \"switched my feed from algo to following, now i get technical eth posts instead of new coins and nft mints. pretty nice change\", \"they are engineered but yes\", \"hello farcaster \\n\\nbeen fun playing with siwf and frames this last week\", \"\\ud83d\\udc40\", \"Postico?\", \"play the same games, win the same prizes\", \"If your crypto network doesn’t have a culture of people challenging each other, oversharing, and turning over existing status hierarchies it won’t have the sauce to challenge existing incumbents. This is what Solana understood better than anyone else.\\n\\nhttps://x.com/tszzl/status/1881093975811203343?s=46\", \"Exactly\", \"\", \"ok I need an AI PET. I cant take this anymore. every day I am checking super ai pets waitlist and still no ai pet. every day, check waitlist, no ai pet. I cant take this anymore, I have over invested, by a lot. I pay $10 a month for this shit. it is what it is. but I need an AI PET NOW. can @woj.eth DO SOMETHING\", \"Congrats!!\", \"Not sure, but probably just the default feeds\", \"Something that I notice while using @warpcast and @recaster-fc is that the Warpcast feed is “better” (longer posts, more polished) but the Recaster feed is more personal - more organic, raw, more early stage alpha.\", \"Hong Kong is going /higher \", \"I just like top hats \"],\n",
      "        \"knowledge\": [\n",
      "            \"Technology\", \"Cryptocurrency\", \"Blockchain\", \"Governance\", \"Entrepreneurship\"\n",
      "        ],\n",
      "        \"topics\": [\n",
      "            \"Cryptocurrency\", \"Governance\", \"Artificial Intelligence\", \"Technology\", \"Entrepreneurship\"\n",
      "        ],\n",
      "        \"style\": {\n",
      "            \"all\": [\"Direct\", \"Analytical\", \"Reflective\"],\n",
      "            \"chat\": [\"Concise\", \"Engaging\"],\n",
      "            \"post\": [\"Detailed\", \"Opinionated\"]\n",
      "        },\n",
      "        \"adjectives\": [\n",
      "            \"Problem-solver\", \"Innovative\", \"Perseverant\", \"Analytical\", \"Tech-savvy\"\n",
      "        ]\n",
      "    }\n",
      "}\n",
      "```\n",
      "{\n",
      "    \"profile\": {\n",
      "        \"fullName\": \"rz\",\n",
      "        \"bio\": \"cofounder @canvas, prev @common, squad @verses, selkie/acc and raymond.xyz\",\n",
      "        \"posts\": [\n",
      "            \"Good governance: https://x.com/stopachka/status/1891225431866827156?s=46\",\n",
      "            \"eth- (crowd cheers) cel (crowd boos) ...leration!! (crowd breaks out into applause)\",\n",
      "            \"One angle on this that\\u2019s actually interesting is Cosmos, which never took on Ethereum\\u2019s research focus or Solana\\u2019s strategy focus, but instead had a technical fundamentals focus (paired with economic autarky)\\n\\nFirst call with ICF we talked about IBC as TCP/IP, and it was actually credible\",\n",
      "            \"Also this\",\n",
      "            \"I think about this all the time\",\n",
      "            \"No one place in particular, but seems people feel like their voices aren't being heard, in Eth, in the US, etc\\n\\nPublic figures that used to participate in good faith discourse are being replaced by people like Nikita Bier who are knowledgeable but also make numbers go up\",\n",
      "            \"I stole this cast\",\n",
      "            \"Governance.\\n\\nWe gotta figure that out\",\n",
      "            \"Congrats Jesse!!\",\n",
      "            \"@ghost\",\n",
      "            \"switched my feed from algo to following, now i get technical eth posts instead of new coins and nft mints. pretty nice change\",\n",
      "            \"they are engineered but yes\",\n",
      "            \"hello farcaster \\n\\nbeen fun playing with siwf and frames this last week\",\n",
      "            \"\\ud83d\\udc40\",\n",
      "            \"Postico?\",\n",
      "            \"play the same games, win the same prizes\",\n",
      "            \"If your crypto network doesn\\u2019t have a culture of people challenging each other, oversharing, and turning over existing status hierarchies it won\\u2019t have the sauce to challenge existing incumbents. This is what Solana understood better than anyone else.\\n\\nhttps://x.com/tszzl/status/1881093975811203343?s=46\",\n",
      "            \"Exactly\",\n",
      "            \"\",\n",
      "            \"ok I need an AI PET. I cant take this anymore. every day I am checking super ai pets waitlist and still no ai pet. every day, check waitlist, no ai pet. I cant take this anymore, I have over invested, by a lot. I pay $10 a month for this shit. it is what it is. but I need an AI PET NOW. can @woj.eth DO SOMETHING\",\n",
      "            \"Congrats!!\",\n",
      "            \"Not sure, but probably just the default feeds\",\n",
      "            \"Something that I notice while using @warpcast and @recaster-fc is that the Warpcast feed is \\u201cbetter\\u201d (longer posts, more polished) but the Recaster feed is more personal - more organic, raw, more early stage alpha.\",\n",
      "            \"Hong Kong is going /higher \",\n",
      "            \"I just like top hats \"\n",
      "        ],\n",
      "        \"knowledge\": [\n",
      "            \"Technology\",\n",
      "            \"Cryptocurrency\",\n",
      "            \"Blockchain\",\n",
      "            \"Governance\",\n",
      "            \"Entrepreneurship\"\n",
      "        ],\n",
      "        \"topics\": [\n",
      "            \"Cryptocurrency\",\n",
      "            \"Governance\",\n",
      "            \"Artificial Intelligence\",\n",
      "            \"Technology\",\n",
      "            \"Entrepreneurship\"\n",
      "        ],\n",
      "        \"style\": {\n",
      "            \"all\": [\n",
      "                \"Direct\",\n",
      "                \"Analytical\",\n",
      "                \"Reflective\"\n",
      "            ],\n",
      "            \"chat\": [\n",
      "                \"Concise\",\n",
      "                \"Engaging\"\n",
      "            ],\n",
      "            \"post\": [\n",
      "                \"Detailed\",\n",
      "                \"Opinionated\"\n",
      "            ]\n",
      "        },\n",
      "        \"adjectives\": [\n",
      "            \"Problem-solver\",\n",
      "            \"Innovative\",\n",
      "            \"Perseverant\",\n",
      "            \"Analytical\",\n",
      "            \"Tech-savvy\"\n",
      "        ]\n",
      "    }\n",
      "}\n",
      "❌ Could not retrieve FID for username: rz\n"
     ]
    }
   ],
   "source": [
    "prompt = f\"\"\"\n",
    "    You are an AI assistant that generates structured JSON profiles based on user activity.\n",
    "\n",
    "    **Rules:**\n",
    "    - **MUST return JSON output ONLY** (no explanations or additional text).\n",
    "    - **Infer user attributes even if data is limited**.\n",
    "    - **Do not return \\\"Unknown\\\". Provide the best reasonable guess**.\n",
    "\n",
    "    ---\n",
    "    \n",
    "    **User Data**\n",
    "    - **Name:** {username}\n",
    "    - **Bio:** {bio}\n",
    "    - **Recent Posts:** {', '.join(posts)}\n",
    "\n",
    "    ---\n",
    "    \n",
    "    **Output Format (JSON)**\n",
    "    ```json\n",
    "    {{\n",
    "        \"profile\": {{\n",
    "            \"fullName\": \"{username}\",\n",
    "            \"bio\": \"{bio}\",\n",
    "            \"posts\": {json.dumps(posts)},\n",
    "            \"knowledge\": [\n",
    "                \"Extracted from bio and posts\"\n",
    "            ],\n",
    "            \"topics\": [\n",
    "                \"Identified from user activity\"\n",
    "            ],\n",
    "            \"style\": {{\n",
    "                \"all\": [\"General communication style\"],\n",
    "                \"chat\": [\"How the user interacts in conversations\"],\n",
    "                \"post\": [\"How the user writes posts\"]\n",
    "            }},\n",
    "            \"adjectives\": [\n",
    "                \"Words describing the user's personality\"\n",
    "            ]\n",
    "        }}\n",
    "    }}\n",
    "    ```\n",
    "    \"\"\"\n",
    "    \n",
    "print(\"🔍 Generated Prompt:\")\n",
    "print(prompt)\n",
    "    \n",
    "try:\n",
    "        response = client.chat.completions.create(\n",
    "            model=\"gpt-4\",\n",
    "            messages=[\n",
    "                {\"role\": \"system\", \"content\": \"You are a helpful assistant.\"},\n",
    "                {\"role\": \"user\", \"content\": prompt}\n",
    "            ],\n",
    "            temperature=0.7\n",
    "        )\n",
    "        json_content = response.choices[0].message.content.strip()\n",
    "        print(\"🔍 OpenAI Response (Raw):\")\n",
    "        print(json_content)\n",
    "\n",
    "        json_content = re.sub(r\"```json\\n|\\n```\", \"\", json_content).strip()\n",
    "        json_output = json.loads(json_content)\n",
    "        print(json.dumps(json_output, indent=4))\n",
    "except Exception as e:\n",
    "        print(f\"❌ Error generating JSON: {e}\")\n",
    "        print(traceback.format_exc())\n",
    "else:\n",
    "    print(f\"❌ Could not retrieve FID for username: {username}\")\n",
    "\n"
   ]
  }
 ],
 "metadata": {
  "kernelspec": {
   "display_name": "venv",
   "language": "python",
   "name": "python3"
  },
  "language_info": {
   "codemirror_mode": {
    "name": "ipython",
    "version": 3
   },
   "file_extension": ".py",
   "mimetype": "text/x-python",
   "name": "python",
   "nbconvert_exporter": "python",
   "pygments_lexer": "ipython3",
   "version": "3.11.9"
  }
 },
 "nbformat": 4,
 "nbformat_minor": 2
}
